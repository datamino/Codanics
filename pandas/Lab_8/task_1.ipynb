{
 "cells": [
  {
   "cell_type": "code",
   "execution_count": 1,
   "metadata": {},
   "outputs": [],
   "source": [
    "import pandas as pd\n"
   ]
  },
  {
   "cell_type": "code",
   "execution_count": 2,
   "metadata": {},
   "outputs": [],
   "source": [
    "data = {\n",
    "'Name': ['Alice', 'Bob', 'Charlie', 'David', 'Eva'],\n",
    "'Age': [20, 21, 22, 20, 23],\n",
    "'Grade_Math': [85, 90, 78, 92, 88],\n",
    "'Grade_Science': [92, 88, 95, 89, 84],\n",
    "'Grade_History': [78, 85, 88, 92, 90]\n",
    "}"
   ]
  },
  {
   "cell_type": "code",
   "execution_count": 3,
   "metadata": {},
   "outputs": [],
   "source": [
    "df = pd.DataFrame(data)"
   ]
  },
  {
   "cell_type": "code",
   "execution_count": 4,
   "metadata": {},
   "outputs": [],
   "source": [
    "avg_grades = df[['Grade_Math', 'Grade_Science', 'Grade_History']].mean()"
   ]
  },
  {
   "cell_type": "code",
   "execution_count": 5,
   "metadata": {},
   "outputs": [],
   "source": [
    "df['Average_Grade'] = df[['Grade_Math', 'Grade_Science', 'Grade_History']].mean(axis=1)\n",
    "highest_avg = df['Average_Grade'].max()\n",
    "highest_student = df[df['Average_Grade'] == highest_avg]"
   ]
  },
  {
   "cell_type": "code",
   "execution_count": 6,
   "metadata": {},
   "outputs": [],
   "source": [
    "std_dev = df[['Grade_Math', 'Grade_Science', 'Grade_History']].std()"
   ]
  },
  {
   "cell_type": "code",
   "execution_count": 7,
   "metadata": {},
   "outputs": [],
   "source": [
    "df.to_csv('student_info.csv', index=False)"
   ]
  },
  {
   "cell_type": "code",
   "execution_count": 8,
   "metadata": {},
   "outputs": [
    {
     "name": "stdout",
     "output_type": "stream",
     "text": [
      "Average grades: \n",
      "Grade_Math       86.6\n",
      "Grade_Science    89.6\n",
      "Grade_History    86.6\n",
      "dtype: float64\n",
      "--------------------------------------------------\n",
      "Student with highest average: \n",
      "    Name  Age  Grade_Math  Grade_Science  Grade_History  Average_Grade\n",
      "3  David   20          92             89             92           91.0\n",
      "--------------------------------------------------\n",
      "Standard deviation: \n",
      "Grade_Math       5.458938\n",
      "Grade_Science    4.159327\n",
      "Grade_History    5.458938\n",
      "dtype: float64\n"
     ]
    }
   ],
   "source": [
    "print(f\"Average grades: \\n{avg_grades}\")\n",
    "print('-'*50)\n",
    "print(f\"Student with highest average: \\n{highest_student}\") \n",
    "print('-'*50)\n",
    "print(f\"Standard deviation: \\n{std_dev}\")"
   ]
  }
 ],
 "metadata": {
  "kernelspec": {
   "display_name": "python_eda",
   "language": "python",
   "name": "python3"
  },
  "language_info": {
   "codemirror_mode": {
    "name": "ipython",
    "version": 3
   },
   "file_extension": ".py",
   "mimetype": "text/x-python",
   "name": "python",
   "nbconvert_exporter": "python",
   "pygments_lexer": "ipython3",
   "version": "3.11.0"
  }
 },
 "nbformat": 4,
 "nbformat_minor": 2
}
