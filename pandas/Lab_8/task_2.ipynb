{
 "cells": [
  {
   "cell_type": "code",
   "execution_count": 8,
   "metadata": {},
   "outputs": [
    {
     "name": "stdout",
     "output_type": "stream",
     "text": [
      "Average price by category:\n",
      "Category\n",
      "Electronics    416.666667\n",
      "Furniture      175.000000\n",
      "Name: Price, dtype: float64\n",
      "\n",
      "Product with highest price\n",
      "\n",
      "  Id    Name     Category  Price\n",
      "0  1  Laptop  Electronics  800.0\n"
     ]
    }
   ],
   "source": [
    "import pandas as pd\n",
    "import xml.etree.ElementTree as et\n",
    "\n",
    "\n",
    "tree = et.parse('products.xml') \n",
    "root = tree.getroot()\n",
    "\n",
    "\n",
    "ids = []\n",
    "names = [] \n",
    "categories = []\n",
    "prices = []\n",
    "\n",
    "\n",
    "for product in root.findall('product'):\n",
    "    \n",
    "    ids.append(product.find('id').text)\n",
    "    names.append(product.find('name').text)\n",
    "    categories.append(product.find('category').text) \n",
    "    prices.append(float(product.find('price').text))\n",
    "    \n",
    "   \n",
    "df = pd.DataFrame({'Id':ids, \n",
    "                    'Name':names,\n",
    "                    'Category':categories, \n",
    "                    'Price':prices})\n",
    "\n",
    "   \n",
    "avg_price = df.groupby('Category')['Price'].mean()\n",
    "\n",
    "\n",
    "max_price = df['Price'].max()\n",
    "max_product = df[df['Price'] == max_price]\n",
    "\n",
    "df.to_csv('products.csv', index=False)\n",
    "\n",
    "\n",
    "avg_price = df.groupby('Category')['Price'].mean()\n",
    "max_price = df[df['Price'] == df['Price'].max()]\n",
    "\n",
    "\n",
    "print(f\"Average price by category:\\n{avg_price}\") \n",
    "\n",
    "print(\"\\nProduct with highest price\\n\")\n",
    "print(max_price)"
   ]
  }
 ],
 "metadata": {
  "kernelspec": {
   "display_name": "python_eda",
   "language": "python",
   "name": "python3"
  },
  "language_info": {
   "codemirror_mode": {
    "name": "ipython",
    "version": 3
   },
   "file_extension": ".py",
   "mimetype": "text/x-python",
   "name": "python",
   "nbconvert_exporter": "python",
   "pygments_lexer": "ipython3",
   "version": "3.11.0"
  }
 },
 "nbformat": 4,
 "nbformat_minor": 2
}
