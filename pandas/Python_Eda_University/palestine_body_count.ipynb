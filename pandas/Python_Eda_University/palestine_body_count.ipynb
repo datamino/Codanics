{
 "cells": [
  {
   "cell_type": "markdown",
   "metadata": {},
   "source": [
    "# &nbsp;&nbsp;&nbsp;&nbsp;&nbsp;&nbsp;&nbsp;&nbsp;&nbsp;&nbsp;&nbsp;&nbsp;&nbsp;&nbsp;&nbsp;&nbsp;&nbsp;&nbsp;&nbsp;&nbsp;&nbsp;&nbsp;&nbsp;&nbsp;&nbsp;&nbsp;&nbsp;&nbsp;&nbsp;&nbsp;&nbsp;&nbsp;&nbsp;&nbsp;&nbsp;&nbsp;&nbsp;&nbsp;&nbsp;&nbsp;&nbsp;&nbsp;&nbsp;&nbsp;&nbsp;**Assignment # 2**\n",
    "**Author :** Tayyab Riaz\\\n",
    "**Roll # :** 22P-9279\\\n",
    "**Section :** BS(AI)\\\n",
    "**Email :** m.tayyab.riaz@outlook.com\\\n",
    "**Reference :** [Kaggle](https://www.kaggle.com/datasets/zusmani/palestine-body-count/)\n"
   ]
  },
  {
   "cell_type": "markdown",
   "metadata": {},
   "source": [
    "# **Task 1**"
   ]
  },
  {
   "cell_type": "markdown",
   "metadata": {},
   "source": [
    "# **`Palestine Body Count`**\n",
    "Human Cost of Israel-Palestine Conflict (2000 - 2021)"
   ]
  },
  {
   "cell_type": "markdown",
   "metadata": {},
   "source": [
    "# **About Dataset**"
   ]
  },
  {
   "cell_type": "markdown",
   "metadata": {},
   "source": [
    "**Context**\\\n",
    "This is an attempt to document the atrocities and human cost in Israel-Palestine conflict.\n",
    "\n",
    "**Content**\\\n",
    "The dataset contains injuries and fatalities data from both sides from 2000 - 2021. It has year, month, number of people killed and injured from Israel and Palestine. There are 111,475 people injured and 10,000 killed from Palestine and another 5,160 people injured and 1,275 killed from Israel\n",
    "\n",
    "**Inspiration**\\\n",
    "Use your data science skills to calculate the human cost, statistical value of life and the amount lost in missed work hours, lives lost due to this conflict\n",
    "\n",
    "**Reference**\\\n",
    "[Kaggle](https://www.kaggle.com/datasets/zusmani/palestine-body-count/)"
   ]
  },
  {
   "cell_type": "code",
   "execution_count": 2,
   "metadata": {},
   "outputs": [],
   "source": [
    "#importing libraries\n",
    "import pandas as pd\n",
    "import numpy as np\n",
    "import matplotlib.pyplot as plt\n",
    "import seaborn as sns\n",
    "import re \n",
    "import plotly.express as px\n",
    "pd.set_option('display.max_columns', None) # this is to display all the columns in the dataframe\n",
    "pd.set_option('display.max_rows', None) # this is to display all the rows in the dataframe\n"
   ]
  },
  {
   "cell_type": "markdown",
   "metadata": {},
   "source": [
    "# **Task 2**"
   ]
  },
  {
   "cell_type": "code",
   "execution_count": 3,
   "metadata": {},
   "outputs": [],
   "source": [
    "df=pd.read_csv('Palestine Body Count.csv')\n"
   ]
  },
  {
   "cell_type": "markdown",
   "metadata": {},
   "source": [
    "# **Task 3**"
   ]
  },
  {
   "cell_type": "code",
   "execution_count": 4,
   "metadata": {},
   "outputs": [
    {
     "data": {
      "text/plain": [
       "(251, 6)"
      ]
     },
     "execution_count": 4,
     "metadata": {},
     "output_type": "execute_result"
    }
   ],
   "source": [
    "df.shape"
   ]
  },
  {
   "cell_type": "code",
   "execution_count": 5,
   "metadata": {},
   "outputs": [
    {
     "data": {
      "text/html": [
       "<div>\n",
       "<style scoped>\n",
       "    .dataframe tbody tr th:only-of-type {\n",
       "        vertical-align: middle;\n",
       "    }\n",
       "\n",
       "    .dataframe tbody tr th {\n",
       "        vertical-align: top;\n",
       "    }\n",
       "\n",
       "    .dataframe thead th {\n",
       "        text-align: right;\n",
       "    }\n",
       "</style>\n",
       "<table border=\"1\" class=\"dataframe\">\n",
       "  <thead>\n",
       "    <tr style=\"text-align: right;\">\n",
       "      <th></th>\n",
       "      <th>Year</th>\n",
       "      <th>Month</th>\n",
       "      <th>Palestinians Injuries</th>\n",
       "      <th>Israelis Injuries</th>\n",
       "      <th>Palestinians Killed</th>\n",
       "      <th>Israelis Killed</th>\n",
       "    </tr>\n",
       "  </thead>\n",
       "  <tbody>\n",
       "    <tr>\n",
       "      <th>0</th>\n",
       "      <td>2000.0</td>\n",
       "      <td>DECEMBER</td>\n",
       "      <td>781</td>\n",
       "      <td>NaN</td>\n",
       "      <td>51</td>\n",
       "      <td>8</td>\n",
       "    </tr>\n",
       "    <tr>\n",
       "      <th>1</th>\n",
       "      <td>2000.0</td>\n",
       "      <td>NOVEMBER</td>\n",
       "      <td>3838</td>\n",
       "      <td>NaN</td>\n",
       "      <td>112</td>\n",
       "      <td>22</td>\n",
       "    </tr>\n",
       "    <tr>\n",
       "      <th>2</th>\n",
       "      <td>2000.0</td>\n",
       "      <td>OCTOBER</td>\n",
       "      <td>5984</td>\n",
       "      <td>NaN</td>\n",
       "      <td>104</td>\n",
       "      <td>10</td>\n",
       "    </tr>\n",
       "    <tr>\n",
       "      <th>3</th>\n",
       "      <td>2000.0</td>\n",
       "      <td>SEPTEMBER</td>\n",
       "      <td>NaN</td>\n",
       "      <td>NaN</td>\n",
       "      <td>16</td>\n",
       "      <td>1</td>\n",
       "    </tr>\n",
       "    <tr>\n",
       "      <th>4</th>\n",
       "      <td>2001.0</td>\n",
       "      <td>DECEMBER</td>\n",
       "      <td>304</td>\n",
       "      <td>NaN</td>\n",
       "      <td>67</td>\n",
       "      <td>36</td>\n",
       "    </tr>\n",
       "  </tbody>\n",
       "</table>\n",
       "</div>"
      ],
      "text/plain": [
       "     Year      Month Palestinians Injuries Israelis Injuries  \\\n",
       "0  2000.0   DECEMBER                   781               NaN   \n",
       "1  2000.0   NOVEMBER                  3838               NaN   \n",
       "2  2000.0    OCTOBER                  5984               NaN   \n",
       "3  2000.0  SEPTEMBER                   NaN               NaN   \n",
       "4  2001.0   DECEMBER                   304               NaN   \n",
       "\n",
       "  Palestinians Killed Israelis Killed  \n",
       "0                  51               8  \n",
       "1                 112              22  \n",
       "2                 104              10  \n",
       "3                  16               1  \n",
       "4                  67              36  "
      ]
     },
     "execution_count": 5,
     "metadata": {},
     "output_type": "execute_result"
    }
   ],
   "source": [
    "df.head()"
   ]
  },
  {
   "cell_type": "code",
   "execution_count": 6,
   "metadata": {},
   "outputs": [
    {
     "data": {
      "text/html": [
       "<div>\n",
       "<style scoped>\n",
       "    .dataframe tbody tr th:only-of-type {\n",
       "        vertical-align: middle;\n",
       "    }\n",
       "\n",
       "    .dataframe tbody tr th {\n",
       "        vertical-align: top;\n",
       "    }\n",
       "\n",
       "    .dataframe thead th {\n",
       "        text-align: right;\n",
       "    }\n",
       "</style>\n",
       "<table border=\"1\" class=\"dataframe\">\n",
       "  <thead>\n",
       "    <tr style=\"text-align: right;\">\n",
       "      <th></th>\n",
       "      <th>Year</th>\n",
       "      <th>Month</th>\n",
       "      <th>Palestinians Injuries</th>\n",
       "      <th>Israelis Injuries</th>\n",
       "      <th>Palestinians Killed</th>\n",
       "      <th>Israelis Killed</th>\n",
       "    </tr>\n",
       "  </thead>\n",
       "  <tbody>\n",
       "    <tr>\n",
       "      <th>246</th>\n",
       "      <td>2021.0</td>\n",
       "      <td>MARCH</td>\n",
       "      <td>NaN</td>\n",
       "      <td>NaN</td>\n",
       "      <td>4</td>\n",
       "      <td>0</td>\n",
       "    </tr>\n",
       "    <tr>\n",
       "      <th>247</th>\n",
       "      <td>2021.0</td>\n",
       "      <td>APRIL</td>\n",
       "      <td>NaN</td>\n",
       "      <td>NaN</td>\n",
       "      <td>1</td>\n",
       "      <td>0</td>\n",
       "    </tr>\n",
       "    <tr>\n",
       "      <th>248</th>\n",
       "      <td>2021.0</td>\n",
       "      <td>MAY</td>\n",
       "      <td>NaN</td>\n",
       "      <td>NaN</td>\n",
       "      <td>26</td>\n",
       "      <td>3</td>\n",
       "    </tr>\n",
       "    <tr>\n",
       "      <th>249</th>\n",
       "      <td>NaN</td>\n",
       "      <td>NaN</td>\n",
       "      <td>NaN</td>\n",
       "      <td>NaN</td>\n",
       "      <td>NaN</td>\n",
       "      <td>NaN</td>\n",
       "    </tr>\n",
       "    <tr>\n",
       "      <th>250</th>\n",
       "      <td>NaN</td>\n",
       "      <td>NaN</td>\n",
       "      <td>111,475</td>\n",
       "      <td>5,160</td>\n",
       "      <td>10,000</td>\n",
       "      <td>1,275</td>\n",
       "    </tr>\n",
       "  </tbody>\n",
       "</table>\n",
       "</div>"
      ],
      "text/plain": [
       "       Year  Month Palestinians Injuries Israelis Injuries  \\\n",
       "246  2021.0  MARCH                   NaN               NaN   \n",
       "247  2021.0  APRIL                   NaN               NaN   \n",
       "248  2021.0    MAY                   NaN               NaN   \n",
       "249     NaN    NaN                   NaN               NaN   \n",
       "250     NaN    NaN               111,475             5,160   \n",
       "\n",
       "    Palestinians Killed Israelis Killed  \n",
       "246                   4               0  \n",
       "247                   1               0  \n",
       "248                  26               3  \n",
       "249                 NaN             NaN  \n",
       "250              10,000           1,275  "
      ]
     },
     "execution_count": 6,
     "metadata": {},
     "output_type": "execute_result"
    }
   ],
   "source": [
    "df.tail()"
   ]
  },
  {
   "cell_type": "code",
   "execution_count": 7,
   "metadata": {},
   "outputs": [
    {
     "name": "stdout",
     "output_type": "stream",
     "text": [
      "<class 'pandas.core.frame.DataFrame'>\n",
      "RangeIndex: 251 entries, 0 to 250\n",
      "Data columns (total 6 columns):\n",
      " #   Column                 Non-Null Count  Dtype  \n",
      "---  ------                 --------------  -----  \n",
      " 0   Year                   249 non-null    float64\n",
      " 1   Month                  249 non-null    object \n",
      " 2   Palestinians Injuries  196 non-null    object \n",
      " 3   Israelis Injuries      133 non-null    object \n",
      " 4   Palestinians Killed    250 non-null    object \n",
      " 5   Israelis Killed        250 non-null    object \n",
      "dtypes: float64(1), object(5)\n",
      "memory usage: 11.9+ KB\n"
     ]
    }
   ],
   "source": [
    "df.info()"
   ]
  },
  {
   "cell_type": "code",
   "execution_count": 8,
   "metadata": {},
   "outputs": [
    {
     "data": {
      "text/plain": [
       "Index(['Year', 'Month', 'Palestinians Injuries', 'Israelis Injuries',\n",
       "       'Palestinians Killed', 'Israelis Killed'],\n",
       "      dtype='object')"
      ]
     },
     "execution_count": 8,
     "metadata": {},
     "output_type": "execute_result"
    }
   ],
   "source": [
    "df.columns"
   ]
  },
  {
   "cell_type": "code",
   "execution_count": 9,
   "metadata": {},
   "outputs": [
    {
     "data": {
      "text/plain": [
       "Year                     float64\n",
       "Month                     object\n",
       "Palestinians Injuries     object\n",
       "Israelis Injuries         object\n",
       "Palestinians Killed       object\n",
       "Israelis Killed           object\n",
       "dtype: object"
      ]
     },
     "execution_count": 9,
     "metadata": {},
     "output_type": "execute_result"
    }
   ],
   "source": [
    "df.dtypes"
   ]
  },
  {
   "cell_type": "code",
   "execution_count": 10,
   "metadata": {},
   "outputs": [
    {
     "data": {
      "text/plain": [
       "Year                      0.796813\n",
       "Month                     0.796813\n",
       "Palestinians Injuries    21.912351\n",
       "Israelis Injuries        47.011952\n",
       "Palestinians Killed       0.398406\n",
       "Israelis Killed           0.398406\n",
       "dtype: float64"
      ]
     },
     "execution_count": 10,
     "metadata": {},
     "output_type": "execute_result"
    }
   ],
   "source": [
    "df.isnull().sum()/len(df)*100"
   ]
  },
  {
   "cell_type": "code",
   "execution_count": 11,
   "metadata": {},
   "outputs": [
    {
     "data": {
      "image/png": "[encoded data removed]",
      "text/plain": [
       "<Figure size 1600x600 with 1 Axes>"
      ]
     },
     "metadata": {},
     "output_type": "display_data"
    }
   ],
   "source": [
    "plt.figure(figsize=(16, 6))\n",
    "missingPercentage = df.isnull().sum()/len(df)*100\n",
    "missingPercentage.plot(kind='bar')\n",
    "plt.xlabel('Columns')\n",
    "plt.ylabel('Percentage')\n",
    "plt.title('Percentage of Missing Values in each Column')\n",
    "plt.show()"
   ]
  },
  {
   "cell_type": "code",
   "execution_count": 12,
   "metadata": {},
   "outputs": [
    {
     "name": "stdout",
     "output_type": "stream",
     "text": [
      "****************************************************************************************************\n",
      "Total values in Year column are : 249\n",
      "Total values in Month column are : 249\n",
      "Total values in Palestinians Injuries column are : 196\n",
      "Total values in Israelis Injuries column are : 133\n",
      "Total values in Palestinians Killed column are : 250\n",
      "Total values in Israelis Killed column are : 250\n",
      "****************************************************************************************************\n"
     ]
    }
   ],
   "source": [
    "print('*'*100)\n",
    "totalValues=df['Year'].value_counts().sum()\n",
    "print('Total values in Year column are :',totalValues)\n",
    "totalValues=df['Month'].value_counts().sum()\n",
    "print('Total values in Month column are :',totalValues)\n",
    "totalValues=df['Palestinians Injuries'].value_counts().sum()\n",
    "print('Total values in Palestinians Injuries column are :',totalValues)\n",
    "totalValues=df['Israelis Injuries'].value_counts().sum()\n",
    "print('Total values in Israelis Injuries column are :',totalValues)\n",
    "totalValues=df['Palestinians Killed'].value_counts().sum()\n",
    "print('Total values in Palestinians Killed column are :',totalValues)\n",
    "totalValues=df['Israelis Killed'].value_counts().sum()\n",
    "print('Total values in Israelis Killed column are :',totalValues)\n",
    "print('*'*100)"
   ]
  },
  {
   "cell_type": "code",
   "execution_count": 13,
   "metadata": {},
   "outputs": [
    {
     "name": "stdout",
     "output_type": "stream",
     "text": [
      "****************************************************************************************************\n",
      "Total Missing Values in Year column are: 2\n",
      "Total Missing Values in Month column are: 2\n",
      "Total Missing Values in Palestinians Injuries column are: 55\n",
      "Total Missing Values in Israelis Injuries column are: 118\n",
      "Total Missing Values in Palestinians Killed column are: 1\n",
      "Total Missing Values in Israelis Killed column are: 1\n",
      "****************************************************************************************************\n"
     ]
    }
   ],
   "source": [
    "print('*'*100)\n",
    "missVal=df['Year'].isnull().sum()\n",
    "print('Total Missing Values in Year column are:',missVal)\n",
    "missVal=df['Month'].isnull().sum()\n",
    "print('Total Missing Values in Month column are:',missVal)\n",
    "missVal=df['Palestinians Injuries'].isnull().sum()\n",
    "print('Total Missing Values in Palestinians Injuries column are:',missVal)\n",
    "missVal=df['Israelis Injuries'].isnull().sum()\n",
    "print('Total Missing Values in Israelis Injuries column are:',missVal)\n",
    "missVal=df['Palestinians Killed'].isnull().sum()\n",
    "print('Total Missing Values in Palestinians Killed column are:',missVal)\n",
    "missVal=df['Israelis Killed'].isnull().sum()\n",
    "print('Total Missing Values in Israelis Killed column are:',missVal)\n",
    "print('*'*100)"
   ]
  },
  {
   "cell_type": "markdown",
   "metadata": {},
   "source": [
    "# **Observation**\n",
    "\n",
    "We can see Year and month columns have 2 missing value we can not change these two missing values Because we dont know which months and Which years are missing so we simply drop that 2 rows completely from dataset."
   ]
  },
  {
   "cell_type": "code",
   "execution_count": 14,
   "metadata": {},
   "outputs": [
    {
     "name": "stdout",
     "output_type": "stream",
     "text": [
      "Missing Values Index in Year column are :  [249, 250]\n",
      "Missing Values Index in Month column are :  [249, 250]\n"
     ]
    }
   ],
   "source": [
    "missVal=df[df['Year'].isnull()]\n",
    "missValIndex=list(missVal.index)\n",
    "print('Missing Values Index in Year column are : ',missValIndex)\n",
    "missVal=df[df['Month'].isnull()]\n",
    "missValIndex=list(missVal.index)\n",
    "print('Missing Values Index in Month column are : ',missValIndex)"
   ]
  },
  {
   "cell_type": "code",
   "execution_count": 15,
   "metadata": {},
   "outputs": [
    {
     "data": {
      "text/html": [
       "<div>\n",
       "<style scoped>\n",
       "    .dataframe tbody tr th:only-of-type {\n",
       "        vertical-align: middle;\n",
       "    }\n",
       "\n",
       "    .dataframe tbody tr th {\n",
       "        vertical-align: top;\n",
       "    }\n",
       "\n",
       "    .dataframe thead th {\n",
       "        text-align: right;\n",
       "    }\n",
       "</style>\n",
       "<table border=\"1\" class=\"dataframe\">\n",
       "  <thead>\n",
       "    <tr style=\"text-align: right;\">\n",
       "      <th></th>\n",
       "      <th>Year</th>\n",
       "      <th>Month</th>\n",
       "      <th>Palestinians Injuries</th>\n",
       "      <th>Israelis Injuries</th>\n",
       "      <th>Palestinians Killed</th>\n",
       "      <th>Israelis Killed</th>\n",
       "    </tr>\n",
       "  </thead>\n",
       "  <tbody>\n",
       "    <tr>\n",
       "      <th>249</th>\n",
       "      <td>NaN</td>\n",
       "      <td>NaN</td>\n",
       "      <td>NaN</td>\n",
       "      <td>NaN</td>\n",
       "      <td>NaN</td>\n",
       "      <td>NaN</td>\n",
       "    </tr>\n",
       "    <tr>\n",
       "      <th>250</th>\n",
       "      <td>NaN</td>\n",
       "      <td>NaN</td>\n",
       "      <td>111,475</td>\n",
       "      <td>5,160</td>\n",
       "      <td>10,000</td>\n",
       "      <td>1,275</td>\n",
       "    </tr>\n",
       "  </tbody>\n",
       "</table>\n",
       "</div>"
      ],
      "text/plain": [
       "     Year Month Palestinians Injuries Israelis Injuries Palestinians Killed  \\\n",
       "249   NaN   NaN                   NaN               NaN                 NaN   \n",
       "250   NaN   NaN               111,475             5,160              10,000   \n",
       "\n",
       "    Israelis Killed  \n",
       "249             NaN  \n",
       "250           1,275  "
      ]
     },
     "execution_count": 15,
     "metadata": {},
     "output_type": "execute_result"
    }
   ],
   "source": [
    "df.loc[[249,250]]"
   ]
  },
  {
   "cell_type": "code",
   "execution_count": 16,
   "metadata": {},
   "outputs": [],
   "source": [
    "df.drop(index=[249,250],inplace=True)"
   ]
  },
  {
   "cell_type": "markdown",
   "metadata": {},
   "source": [
    "Now we completely Removed Index 249 and 250 which has Null values in year and Month columns."
   ]
  },
  {
   "cell_type": "code",
   "execution_count": 17,
   "metadata": {},
   "outputs": [
    {
     "name": "stdout",
     "output_type": "stream",
     "text": [
      "Total Uniuqe Values in Year column are: 22\n",
      "Uniuqe Values in Year column are: [2000. 2001. 2002. 2003. 2004. 2005. 2006. 2007. 2008. 2009. 2010. 2011.\n",
      " 2012. 2013. 2014. 2015. 2016. 2017. 2018. 2019. 2020. 2021.]\n"
     ]
    }
   ],
   "source": [
    "print('Total Uniuqe Values in Year column are:',df['Year'].nunique())\n",
    "print('Uniuqe Values in Year column are:',df['Year'].unique())\n"
   ]
  },
  {
   "cell_type": "code",
   "execution_count": 18,
   "metadata": {},
   "outputs": [
    {
     "name": "stdout",
     "output_type": "stream",
     "text": [
      "Type of Year column is:  float64\n"
     ]
    }
   ],
   "source": [
    "print('Type of Year column is: ',df['Year'].dtype)\n"
   ]
  },
  {
   "cell_type": "code",
   "execution_count": 19,
   "metadata": {},
   "outputs": [
    {
     "name": "stdout",
     "output_type": "stream",
     "text": [
      "After converting it into int type of Year column is:  object\n"
     ]
    }
   ],
   "source": [
    "df['Year']=df['Year'].apply(lambda x : str(x))\n",
    "print('After converting it into int type of Year column is: ',df['Year'].dtype)"
   ]
  },
  {
   "cell_type": "code",
   "execution_count": 20,
   "metadata": {},
   "outputs": [
    {
     "name": "stdout",
     "output_type": "stream",
     "text": [
      "Total Uniuqe Values in Month column are: 14\n",
      "Uniuqe Values in Month column are: ['December' 'November' 'October' 'September' 'August' 'July' 'June' 'May'\n",
      " 'April' 'March' 'February' 'January' 'May & June' 'May ']\n"
     ]
    }
   ],
   "source": [
    "df['Month']=df['Month'].apply(lambda x:x.title())\n",
    "print('Total Uniuqe Values in Month column are:',df['Month'].nunique())\n",
    "print('Uniuqe Values in Month column are:',df['Month'].unique())"
   ]
  },
  {
   "cell_type": "code",
   "execution_count": 21,
   "metadata": {},
   "outputs": [],
   "source": [
    "\n",
    "def clean_month(month):\n",
    "   month = re.sub(r\"\\s*\\&\\s*June\", \"\", month)\n",
    "   month = re.sub(r\"\\s*\", \"\", month)\n",
    "   return month\n",
    "\n",
    "df['Month'] = df['Month'].apply(clean_month)\n",
    "months = ['May ', 'May & June']\n",
    "replacements = ['May', 'May'] \n",
    "\n",
    "df['Month'] = df['Month'].replace(months,replacements,regex=True)"
   ]
  },
  {
   "cell_type": "code",
   "execution_count": 22,
   "metadata": {},
   "outputs": [
    {
     "name": "stdout",
     "output_type": "stream",
     "text": [
      "Total Uniuqe Values in Month column are: 12\n",
      "Uniuqe Values in Month column are: ['December' 'November' 'October' 'September' 'August' 'July' 'June' 'May'\n",
      " 'April' 'March' 'February' 'January']\n"
     ]
    }
   ],
   "source": [
    "print('Total Uniuqe Values in Month column are:',df['Month'].nunique())\n",
    "print('Uniuqe Values in Month column are:',df['Month'].unique())"
   ]
  },
  {
   "cell_type": "code",
   "execution_count": 23,
   "metadata": {},
   "outputs": [
    {
     "data": {
      "text/plain": [
       "54"
      ]
     },
     "execution_count": 23,
     "metadata": {},
     "output_type": "execute_result"
    }
   ],
   "source": [
    "df['Palestinians Injuries'].dtype\n",
    "df['Palestinians Injuries'].unique()\n",
    "df['Palestinians Injuries'].isnull().sum()"
   ]
  },
  {
   "cell_type": "code",
   "execution_count": 24,
   "metadata": {},
   "outputs": [
    {
     "data": {
      "text/plain": [
       "1"
      ]
     },
     "execution_count": 24,
     "metadata": {},
     "output_type": "execute_result"
    }
   ],
   "source": [
    "df['Palestinians Injuries'].str.contains('\\(incl\\. Jun\\)').sum()\n"
   ]
  },
  {
   "cell_type": "code",
   "execution_count": 25,
   "metadata": {},
   "outputs": [
    {
     "data": {
      "text/plain": [
       "1"
      ]
     },
     "execution_count": 25,
     "metadata": {},
     "output_type": "execute_result"
    }
   ],
   "source": [
    "df['Palestinians Injuries'].str.contains('\\(incl\\. Aug\\)').sum()"
   ]
  },
  {
   "cell_type": "code",
   "execution_count": 26,
   "metadata": {},
   "outputs": [],
   "source": [
    "\n",
    "def removeOutliers(value):\n",
    "    if isinstance(value, str)and ('(incl. Aug)' in value or '(incl. Jun)' in value):\n",
    "        return np.nan\n",
    "    return value\n",
    "\n",
    "df['Palestinians Injuries'] = df['Palestinians Injuries'].apply(removeOutliers)\n",
    "         "
   ]
  },
  {
   "cell_type": "code",
   "execution_count": 27,
   "metadata": {},
   "outputs": [
    {
     "data": {
      "text/plain": [
       "0        781\n",
       "1       3838\n",
       "2       5984\n",
       "3        NaN\n",
       "4        304\n",
       "5        160\n",
       "6        407\n",
       "7        657\n",
       "8        502\n",
       "9        394\n",
       "10       319\n",
       "11       932\n",
       "12       715\n",
       "13       927\n",
       "14       598\n",
       "15       471\n",
       "16       185\n",
       "17       264\n",
       "18       388\n",
       "19       353\n",
       "20       186\n",
       "21       374\n",
       "22       299\n",
       "23       181\n",
       "24       523\n",
       "25       870\n",
       "26       429\n",
       "27       330\n",
       "28       322\n",
       "29       106\n",
       "30       289\n",
       "31       226\n",
       "32       191\n",
       "33        34\n",
       "34       367\n",
       "35       239\n",
       "36       303\n",
       "37       379\n",
       "38       244\n",
       "39       292\n",
       "40       161\n",
       "41        98\n",
       "42       343\n",
       "43       579\n",
       "44       287\n",
       "45       251\n",
       "46       377\n",
       "47       545\n",
       "48       346\n",
       "49       417\n",
       "50       437\n",
       "51       168\n",
       "52       166\n",
       "53        99\n",
       "54        81\n",
       "55        90\n",
       "56       130\n",
       "57       165\n",
       "58       116\n",
       "59        81\n",
       "60       183\n",
       "61        68\n",
       "62        42\n",
       "63       164\n",
       "64        73\n",
       "65       491\n",
       "66       180\n",
       "67       196\n",
       "68       266\n",
       "69       799\n",
       "70       198\n",
       "71       257\n",
       "72       254\n",
       "73       203\n",
       "74       194\n",
       "75        88\n",
       "76     13720\n",
       "77       127\n",
       "78       152\n",
       "79       135\n",
       "80       154\n",
       "81        67\n",
       "82       162\n",
       "83       281\n",
       "84       115\n",
       "85       153\n",
       "86       256\n",
       "87       104\n",
       "88       NaN\n",
       "89       NaN\n",
       "90       NaN\n",
       "91       NaN\n",
       "92       NaN\n",
       "93       NaN\n",
       "94       NaN\n",
       "95       NaN\n",
       "96       NaN\n",
       "97       NaN\n",
       "98       NaN\n",
       "99       NaN\n",
       "100      195\n",
       "101       30\n",
       "102       88\n",
       "103       80\n",
       "104       36\n",
       "105       26\n",
       "106       89\n",
       "107       82\n",
       "108      136\n",
       "109       87\n",
       "110       65\n",
       "111     5557\n",
       "112      105\n",
       "113       87\n",
       "114      147\n",
       "115      148\n",
       "116       46\n",
       "117       85\n",
       "118      104\n",
       "119      118\n",
       "120      119\n",
       "121      402\n",
       "122       92\n",
       "123       86\n",
       "124      210\n",
       "125       63\n",
       "126      110\n",
       "127      149\n",
       "128      191\n",
       "129      156\n",
       "130      159\n",
       "131      397\n",
       "132      193\n",
       "133      204\n",
       "134      135\n",
       "135      143\n",
       "136      198\n",
       "137     2252\n",
       "138       89\n",
       "139      161\n",
       "140      169\n",
       "141      202\n",
       "142      231\n",
       "143      703\n",
       "144      169\n",
       "145      404\n",
       "146      256\n",
       "147       60\n",
       "148      159\n",
       "149      320\n",
       "150      105\n",
       "151      374\n",
       "152      137\n",
       "153      138\n",
       "154      124\n",
       "155      429\n",
       "156      656\n",
       "157      493\n",
       "158      766\n",
       "159      263\n",
       "160      350\n",
       "161      984\n",
       "162      291\n",
       "163      209\n",
       "164    13735\n",
       "165      NaN\n",
       "166      326\n",
       "167      265\n",
       "168      302\n",
       "169      228\n",
       "170      216\n",
       "171      219\n",
       "172     2222\n",
       "173     3888\n",
       "174     7555\n",
       "175      413\n",
       "176      196\n",
       "177      141\n",
       "178       78\n",
       "179      284\n",
       "180      223\n",
       "181      176\n",
       "182      167\n",
       "183      134\n",
       "184      105\n",
       "185       97\n",
       "186      169\n",
       "187      210\n",
       "188      261\n",
       "189      256\n",
       "190      167\n",
       "191      434\n",
       "192      286\n",
       "193      348\n",
       "194      514\n",
       "195      582\n",
       "196     4580\n",
       "197       89\n",
       "198      120\n",
       "199      118\n",
       "200      135\n",
       "201     1772\n",
       "202      790\n",
       "203      NaN\n",
       "204      150\n",
       "205      189\n",
       "206       97\n",
       "207       44\n",
       "208      NaN\n",
       "209      NaN\n",
       "210      NaN\n",
       "211      NaN\n",
       "212      NaN\n",
       "213      NaN\n",
       "214      NaN\n",
       "215      NaN\n",
       "216      NaN\n",
       "217      NaN\n",
       "218      NaN\n",
       "219      NaN\n",
       "220      NaN\n",
       "221      NaN\n",
       "222      NaN\n",
       "223      NaN\n",
       "224      NaN\n",
       "225      NaN\n",
       "226      NaN\n",
       "227      NaN\n",
       "228      NaN\n",
       "229      NaN\n",
       "230      NaN\n",
       "231      NaN\n",
       "232      NaN\n",
       "233      NaN\n",
       "234      NaN\n",
       "235      NaN\n",
       "236      NaN\n",
       "237      NaN\n",
       "238      NaN\n",
       "239      NaN\n",
       "240      NaN\n",
       "241      NaN\n",
       "242      NaN\n",
       "243      NaN\n",
       "244      NaN\n",
       "245      NaN\n",
       "246      NaN\n",
       "247      NaN\n",
       "248      NaN\n",
       "Name: Palestinians Injuries, dtype: object"
      ]
     },
     "execution_count": 27,
     "metadata": {},
     "output_type": "execute_result"
    }
   ],
   "source": [
    "df['Palestinians Injuries']"
   ]
  },
  {
   "cell_type": "code",
   "execution_count": 28,
   "metadata": {},
   "outputs": [],
   "source": [
    "df['Palestinians Injuries'] = pd.to_numeric(df['Palestinians Injuries'], errors='coerce')"
   ]
  },
  {
   "cell_type": "code",
   "execution_count": 29,
   "metadata": {},
   "outputs": [],
   "source": [
    "df['Palestinians Injuries'].fillna(df['Palestinians Injuries'].mean(),inplace=True)"
   ]
  },
  {
   "cell_type": "code",
   "execution_count": 30,
   "metadata": {},
   "outputs": [],
   "source": [
    "df['Palestinians Injuries']=df['Palestinians Injuries'].apply(lambda x : int(x))"
   ]
  },
  {
   "cell_type": "code",
   "execution_count": 31,
   "metadata": {},
   "outputs": [
    {
     "data": {
      "text/plain": [
       "0        781\n",
       "1       3838\n",
       "2       5984\n",
       "3        577\n",
       "4        304\n",
       "5        160\n",
       "6        407\n",
       "7        657\n",
       "8        502\n",
       "9        394\n",
       "10       319\n",
       "11       932\n",
       "12       715\n",
       "13       927\n",
       "14       598\n",
       "15       471\n",
       "16       185\n",
       "17       264\n",
       "18       388\n",
       "19       353\n",
       "20       186\n",
       "21       374\n",
       "22       299\n",
       "23       181\n",
       "24       523\n",
       "25       870\n",
       "26       429\n",
       "27       330\n",
       "28       322\n",
       "29       106\n",
       "30       289\n",
       "31       226\n",
       "32       191\n",
       "33        34\n",
       "34       367\n",
       "35       239\n",
       "36       303\n",
       "37       379\n",
       "38       244\n",
       "39       292\n",
       "40       161\n",
       "41        98\n",
       "42       343\n",
       "43       579\n",
       "44       287\n",
       "45       251\n",
       "46       377\n",
       "47       545\n",
       "48       346\n",
       "49       417\n",
       "50       437\n",
       "51       168\n",
       "52       166\n",
       "53        99\n",
       "54        81\n",
       "55        90\n",
       "56       130\n",
       "57       165\n",
       "58       116\n",
       "59        81\n",
       "60       183\n",
       "61        68\n",
       "62        42\n",
       "63       164\n",
       "64        73\n",
       "65       491\n",
       "66       180\n",
       "67       196\n",
       "68       266\n",
       "69       799\n",
       "70       198\n",
       "71       257\n",
       "72       254\n",
       "73       203\n",
       "74       194\n",
       "75        88\n",
       "76     13720\n",
       "77       127\n",
       "78       152\n",
       "79       135\n",
       "80       154\n",
       "81        67\n",
       "82       162\n",
       "83       281\n",
       "84       115\n",
       "85       153\n",
       "86       256\n",
       "87       104\n",
       "88       577\n",
       "89       577\n",
       "90       577\n",
       "91       577\n",
       "92       577\n",
       "93       577\n",
       "94       577\n",
       "95       577\n",
       "96       577\n",
       "97       577\n",
       "98       577\n",
       "99       577\n",
       "100      195\n",
       "101       30\n",
       "102       88\n",
       "103       80\n",
       "104       36\n",
       "105       26\n",
       "106       89\n",
       "107       82\n",
       "108      136\n",
       "109       87\n",
       "110       65\n",
       "111     5557\n",
       "112      105\n",
       "113       87\n",
       "114      147\n",
       "115      148\n",
       "116       46\n",
       "117       85\n",
       "118      104\n",
       "119      118\n",
       "120      119\n",
       "121      402\n",
       "122       92\n",
       "123       86\n",
       "124      210\n",
       "125       63\n",
       "126      110\n",
       "127      149\n",
       "128      191\n",
       "129      156\n",
       "130      159\n",
       "131      397\n",
       "132      193\n",
       "133      204\n",
       "134      135\n",
       "135      143\n",
       "136      198\n",
       "137     2252\n",
       "138       89\n",
       "139      161\n",
       "140      169\n",
       "141      202\n",
       "142      231\n",
       "143      703\n",
       "144      169\n",
       "145      404\n",
       "146      256\n",
       "147       60\n",
       "148      159\n",
       "149      320\n",
       "150      105\n",
       "151      374\n",
       "152      137\n",
       "153      138\n",
       "154      124\n",
       "155      429\n",
       "156      656\n",
       "157      493\n",
       "158      766\n",
       "159      263\n",
       "160      350\n",
       "161      984\n",
       "162      291\n",
       "163      209\n",
       "164    13735\n",
       "165      577\n",
       "166      326\n",
       "167      265\n",
       "168      302\n",
       "169      228\n",
       "170      216\n",
       "171      219\n",
       "172     2222\n",
       "173     3888\n",
       "174     7555\n",
       "175      413\n",
       "176      196\n",
       "177      141\n",
       "178       78\n",
       "179      284\n",
       "180      223\n",
       "181      176\n",
       "182      167\n",
       "183      134\n",
       "184      105\n",
       "185       97\n",
       "186      169\n",
       "187      210\n",
       "188      261\n",
       "189      256\n",
       "190      167\n",
       "191      434\n",
       "192      286\n",
       "193      348\n",
       "194      514\n",
       "195      582\n",
       "196     4580\n",
       "197       89\n",
       "198      120\n",
       "199      118\n",
       "200      135\n",
       "201     1772\n",
       "202      790\n",
       "203      577\n",
       "204      150\n",
       "205      189\n",
       "206       97\n",
       "207       44\n",
       "208      577\n",
       "209      577\n",
       "210      577\n",
       "211      577\n",
       "212      577\n",
       "213      577\n",
       "214      577\n",
       "215      577\n",
       "216      577\n",
       "217      577\n",
       "218      577\n",
       "219      577\n",
       "220      577\n",
       "221      577\n",
       "222      577\n",
       "223      577\n",
       "224      577\n",
       "225      577\n",
       "226      577\n",
       "227      577\n",
       "228      577\n",
       "229      577\n",
       "230      577\n",
       "231      577\n",
       "232      577\n",
       "233      577\n",
       "234      577\n",
       "235      577\n",
       "236      577\n",
       "237      577\n",
       "238      577\n",
       "239      577\n",
       "240      577\n",
       "241      577\n",
       "242      577\n",
       "243      577\n",
       "244      577\n",
       "245      577\n",
       "246      577\n",
       "247      577\n",
       "248      577\n",
       "Name: Palestinians Injuries, dtype: int64"
      ]
     },
     "execution_count": 31,
     "metadata": {},
     "output_type": "execute_result"
    }
   ],
   "source": [
    "df['Palestinians Injuries']"
   ]
  },
  {
   "cell_type": "code",
   "execution_count": 32,
   "metadata": {},
   "outputs": [
    {
     "data": {
      "text/plain": [
       "dtype('O')"
      ]
     },
     "execution_count": 32,
     "metadata": {},
     "output_type": "execute_result"
    }
   ],
   "source": [
    "df['Israelis Injuries'].dtype"
   ]
  },
  {
   "cell_type": "code",
   "execution_count": 33,
   "metadata": {},
   "outputs": [
    {
     "data": {
      "text/plain": [
       "array([nan, '88', '17', '46', '25', '16', '105', '20', '19', '62', '61',\n",
       "       '12', '30', '24', '10', '41', '26', '14', '78', '47', '6', '13',\n",
       "       '87', '56', '7', '22', '15', '35', '5', '11', '0', '21', '59', '3',\n",
       "       '9', '36', '253', '1', '4', '33', '55', '32', '2347',\n",
       "       '(incl. Aug)', '28', '43', '50', '80', '39', '8', '18', '2', '27',\n",
       "       '23', '(incl. Jun)', '37'], dtype=object)"
      ]
     },
     "execution_count": 33,
     "metadata": {},
     "output_type": "execute_result"
    }
   ],
   "source": [
    "df['Israelis Injuries'].unique()"
   ]
  },
  {
   "cell_type": "code",
   "execution_count": 34,
   "metadata": {},
   "outputs": [
    {
     "data": {
      "text/plain": [
       "55"
      ]
     },
     "execution_count": 34,
     "metadata": {},
     "output_type": "execute_result"
    }
   ],
   "source": [
    "df['Israelis Injuries'].nunique()"
   ]
  },
  {
   "cell_type": "code",
   "execution_count": 35,
   "metadata": {},
   "outputs": [
    {
     "data": {
      "text/plain": [
       "117"
      ]
     },
     "execution_count": 35,
     "metadata": {},
     "output_type": "execute_result"
    }
   ],
   "source": [
    "df['Israelis Injuries'].isnull().sum()"
   ]
  },
  {
   "cell_type": "code",
   "execution_count": 36,
   "metadata": {},
   "outputs": [
    {
     "data": {
      "text/plain": [
       "1"
      ]
     },
     "execution_count": 36,
     "metadata": {},
     "output_type": "execute_result"
    }
   ],
   "source": [
    "df['Israelis Injuries'].str.contains('\\(incl\\. Aug\\)').sum()"
   ]
  },
  {
   "cell_type": "code",
   "execution_count": 37,
   "metadata": {},
   "outputs": [
    {
     "data": {
      "text/plain": [
       "1"
      ]
     },
     "execution_count": 37,
     "metadata": {},
     "output_type": "execute_result"
    }
   ],
   "source": [
    "df['Israelis Injuries'].str.contains('\\(incl\\. Jun\\)').sum()"
   ]
  },
  {
   "cell_type": "code",
   "execution_count": 38,
   "metadata": {},
   "outputs": [],
   "source": [
    "df['Israelis Injuries']=df['Israelis Injuries'].apply(removeOutliers)"
   ]
  },
  {
   "cell_type": "code",
   "execution_count": 39,
   "metadata": {},
   "outputs": [],
   "source": [
    "df['Israelis Injuries']=pd.to_numeric(df['Israelis Injuries'],errors='coerce')"
   ]
  },
  {
   "cell_type": "code",
   "execution_count": 40,
   "metadata": {},
   "outputs": [],
   "source": [
    "df['Israelis Injuries'].fillna(df['Israelis Injuries'].median(),inplace=True)"
   ]
  },
  {
   "cell_type": "code",
   "execution_count": 41,
   "metadata": {},
   "outputs": [],
   "source": [
    "df['Israelis Injuries']=df['Israelis Injuries'].apply(lambda x : int(x))"
   ]
  },
  {
   "cell_type": "code",
   "execution_count": 42,
   "metadata": {},
   "outputs": [
    {
     "data": {
      "text/plain": [
       "0        15\n",
       "1        15\n",
       "2        15\n",
       "3        15\n",
       "4        15\n",
       "5        15\n",
       "6        15\n",
       "7        15\n",
       "8        15\n",
       "9        15\n",
       "10       15\n",
       "11       15\n",
       "12       15\n",
       "13       15\n",
       "14       15\n",
       "15       15\n",
       "16       15\n",
       "17       15\n",
       "18       15\n",
       "19       15\n",
       "20       15\n",
       "21       15\n",
       "22       15\n",
       "23       15\n",
       "24       15\n",
       "25       15\n",
       "26       15\n",
       "27       15\n",
       "28       15\n",
       "29       15\n",
       "30       15\n",
       "31       15\n",
       "32       15\n",
       "33       15\n",
       "34       15\n",
       "35       15\n",
       "36       15\n",
       "37       15\n",
       "38       15\n",
       "39       15\n",
       "40       15\n",
       "41       15\n",
       "42       15\n",
       "43       15\n",
       "44       15\n",
       "45       15\n",
       "46       15\n",
       "47       15\n",
       "48       15\n",
       "49       15\n",
       "50       15\n",
       "51       15\n",
       "52       88\n",
       "53       17\n",
       "54       46\n",
       "55       25\n",
       "56       16\n",
       "57      105\n",
       "58       20\n",
       "59       17\n",
       "60       19\n",
       "61       17\n",
       "62       62\n",
       "63       61\n",
       "64       12\n",
       "65       30\n",
       "66       19\n",
       "67       24\n",
       "68       10\n",
       "69       41\n",
       "70       26\n",
       "71       14\n",
       "72       78\n",
       "73       46\n",
       "74       30\n",
       "75       47\n",
       "76       20\n",
       "77        6\n",
       "78       13\n",
       "79       87\n",
       "80       56\n",
       "81        7\n",
       "82       19\n",
       "83       30\n",
       "84       22\n",
       "85       15\n",
       "86       35\n",
       "87       12\n",
       "88       15\n",
       "89       15\n",
       "90       15\n",
       "91       15\n",
       "92       15\n",
       "93       15\n",
       "94       15\n",
       "95       15\n",
       "96       15\n",
       "97       15\n",
       "98       15\n",
       "99       15\n",
       "100      15\n",
       "101      15\n",
       "102      15\n",
       "103      15\n",
       "104      15\n",
       "105      15\n",
       "106      15\n",
       "107      15\n",
       "108      15\n",
       "109      15\n",
       "110      15\n",
       "111      15\n",
       "112       5\n",
       "113       7\n",
       "114       5\n",
       "115      12\n",
       "116      11\n",
       "117       0\n",
       "118      21\n",
       "119      17\n",
       "120      10\n",
       "121      59\n",
       "122      14\n",
       "123      15\n",
       "124       6\n",
       "125       3\n",
       "126       9\n",
       "127       5\n",
       "128      22\n",
       "129       3\n",
       "130       9\n",
       "131      36\n",
       "132      10\n",
       "133      13\n",
       "134       3\n",
       "135       5\n",
       "136       6\n",
       "137     253\n",
       "138       1\n",
       "139       7\n",
       "140       5\n",
       "141      12\n",
       "142       4\n",
       "143      15\n",
       "144       9\n",
       "145      16\n",
       "146      14\n",
       "147       3\n",
       "148       4\n",
       "149       5\n",
       "150      15\n",
       "151       9\n",
       "152       5\n",
       "153      11\n",
       "154       1\n",
       "155      33\n",
       "156      17\n",
       "157      21\n",
       "158      24\n",
       "159       6\n",
       "160      15\n",
       "161      55\n",
       "162      32\n",
       "163      22\n",
       "164    2347\n",
       "165      15\n",
       "166       5\n",
       "167      28\n",
       "168      15\n",
       "169       5\n",
       "170       6\n",
       "171       9\n",
       "172      43\n",
       "173      50\n",
       "174      80\n",
       "175      39\n",
       "176      20\n",
       "177       8\n",
       "178      14\n",
       "179      11\n",
       "180      13\n",
       "181      13\n",
       "182       5\n",
       "183       8\n",
       "184      18\n",
       "185       7\n",
       "186      17\n",
       "187      14\n",
       "188       2\n",
       "189       9\n",
       "190      30\n",
       "191       2\n",
       "192      21\n",
       "193      27\n",
       "194       8\n",
       "195      16\n",
       "196      10\n",
       "197       8\n",
       "198       5\n",
       "199       5\n",
       "200       2\n",
       "201      23\n",
       "202      20\n",
       "203      15\n",
       "204      12\n",
       "205      19\n",
       "206      37\n",
       "207      17\n",
       "208      15\n",
       "209      15\n",
       "210      15\n",
       "211      15\n",
       "212      15\n",
       "213      15\n",
       "214      15\n",
       "215      15\n",
       "216      15\n",
       "217      15\n",
       "218      15\n",
       "219      15\n",
       "220      15\n",
       "221      15\n",
       "222      15\n",
       "223      15\n",
       "224      15\n",
       "225      15\n",
       "226      15\n",
       "227      15\n",
       "228      15\n",
       "229      15\n",
       "230      15\n",
       "231      15\n",
       "232      15\n",
       "233      15\n",
       "234      15\n",
       "235      15\n",
       "236      15\n",
       "237      15\n",
       "238      15\n",
       "239      15\n",
       "240      15\n",
       "241      15\n",
       "242      15\n",
       "243      15\n",
       "244      15\n",
       "245      15\n",
       "246      15\n",
       "247      15\n",
       "248      15\n",
       "Name: Israelis Injuries, dtype: int64"
      ]
     },
     "execution_count": 42,
     "metadata": {},
     "output_type": "execute_result"
    }
   ],
   "source": [
    "df['Israelis Injuries']"
   ]
  },
  {
   "cell_type": "code",
   "execution_count": 43,
   "metadata": {},
   "outputs": [
    {
     "data": {
      "text/plain": [
       "dtype('O')"
      ]
     },
     "execution_count": 43,
     "metadata": {},
     "output_type": "execute_result"
    }
   ],
   "source": [
    "df['Palestinians Killed'].dtype"
   ]
  },
  {
   "cell_type": "code",
   "execution_count": 44,
   "metadata": {},
   "outputs": [
    {
     "data": {
      "text/plain": [
       "array(['51', '112', '104', '16', '67', '39', '89', '59', '37', '32', '13',\n",
       "       '46', '23', '27', '19', '72', '66', '53', '43', '57', '48', '246',\n",
       "       '237', '85', '28', '30', '58', '29', '26', '4', '61', '69', '60',\n",
       "       '42', '145', '0', '113', '55', '79', '54', '20', '15', '22', '17',\n",
       "       '11', '25', '5', '10', '1', '9', '50', '14', '134', '74', '180',\n",
       "       '31', '36', '34', '47', '40', '62', '12', '432', '3', '8', '114',\n",
       "       '6', '2', '978', '24', '181', '614', '1590', '7', '18', '33', '21'],\n",
       "      dtype=object)"
      ]
     },
     "execution_count": 44,
     "metadata": {},
     "output_type": "execute_result"
    }
   ],
   "source": [
    "df['Palestinians Killed'].unique()"
   ]
  },
  {
   "cell_type": "code",
   "execution_count": 45,
   "metadata": {},
   "outputs": [],
   "source": [
    "df['Palestinians Killed']=df['Palestinians Killed'].apply(lambda x:int(x))"
   ]
  },
  {
   "cell_type": "code",
   "execution_count": 46,
   "metadata": {},
   "outputs": [
    {
     "data": {
      "text/plain": [
       "dtype('int64')"
      ]
     },
     "execution_count": 46,
     "metadata": {},
     "output_type": "execute_result"
    }
   ],
   "source": [
    "df['Palestinians Killed'].dtype"
   ]
  },
  {
   "cell_type": "code",
   "execution_count": 47,
   "metadata": {},
   "outputs": [
    {
     "data": {
      "text/plain": [
       "0"
      ]
     },
     "execution_count": 47,
     "metadata": {},
     "output_type": "execute_result"
    }
   ],
   "source": [
    "df['Palestinians Killed'].isnull().sum()"
   ]
  },
  {
   "cell_type": "code",
   "execution_count": 48,
   "metadata": {},
   "outputs": [
    {
     "data": {
      "image/png": "[encoded data removed]",
      "text/plain": [
       "<Figure size 1600x600 with 1 Axes>"
      ]
     },
     "metadata": {},
     "output_type": "display_data"
    }
   ],
   "source": [
    "plt.figure(figsize=(16, 6))\n",
    "plt.boxplot(df['Palestinians Killed'])\n",
    "plt.title('Boxplot of Palestinians Killed')\n",
    "plt.xlabel('Palestinians Killed')\n",
    "plt.ylabel('Values')\n",
    "plt.show()"
   ]
  },
  {
   "cell_type": "markdown",
   "metadata": {},
   "source": [
    "As we can see their is an outlier value but We do not remove it because this outlier is authentic and real."
   ]
  },
  {
   "cell_type": "code",
   "execution_count": 49,
   "metadata": {},
   "outputs": [
    {
     "data": {
      "text/plain": [
       "dtype('O')"
      ]
     },
     "execution_count": 49,
     "metadata": {},
     "output_type": "execute_result"
    }
   ],
   "source": [
    "df['Israelis Killed'].dtype"
   ]
  },
  {
   "cell_type": "code",
   "execution_count": 50,
   "metadata": {},
   "outputs": [
    {
     "data": {
      "text/plain": [
       "array(['8', '22', '10', '1', '36', '14', '13', '26', '28', '17', '7', '6',\n",
       "       '40', '25', '57', '29', '46', '122', '16', '4', '27', '21', '2',\n",
       "       '23', '3', '11', '0', '19', '15', '5', '12', '9', '59'],\n",
       "      dtype=object)"
      ]
     },
     "execution_count": 50,
     "metadata": {},
     "output_type": "execute_result"
    }
   ],
   "source": [
    "df['Israelis Killed'].unique()"
   ]
  },
  {
   "cell_type": "code",
   "execution_count": 51,
   "metadata": {},
   "outputs": [],
   "source": [
    "df['Israelis Killed']=df['Israelis Killed'].apply(lambda x:int(x))"
   ]
  },
  {
   "cell_type": "code",
   "execution_count": 52,
   "metadata": {},
   "outputs": [
    {
     "data": {
      "text/plain": [
       "dtype('int64')"
      ]
     },
     "execution_count": 52,
     "metadata": {},
     "output_type": "execute_result"
    }
   ],
   "source": [
    "df['Israelis Killed'].dtype"
   ]
  },
  {
   "cell_type": "code",
   "execution_count": 53,
   "metadata": {},
   "outputs": [
    {
     "data": {
      "text/plain": [
       "0"
      ]
     },
     "execution_count": 53,
     "metadata": {},
     "output_type": "execute_result"
    }
   ],
   "source": [
    "df['Israelis Killed'].isnull().sum()"
   ]
  },
  {
   "cell_type": "code",
   "execution_count": 54,
   "metadata": {},
   "outputs": [
    {
     "data": {
      "image/png": "[encoded data removed]",
      "text/plain": [
       "<Figure size 1600x600 with 1 Axes>"
      ]
     },
     "metadata": {},
     "output_type": "display_data"
    }
   ],
   "source": [
    "plt.figure(figsize=(16, 6))\n",
    "plt.boxplot(df['Israelis Killed'])\n",
    "plt.title('Boxplot of Israelis Killed')\n",
    "plt.xlabel('Israelis Killed')\n",
    "plt.ylabel('Values')\n",
    "plt.show()"
   ]
  },
  {
   "cell_type": "code",
   "execution_count": 55,
   "metadata": {},
   "outputs": [
    {
     "data": {
      "text/plain": [
       "Year                     0.0\n",
       "Month                    0.0\n",
       "Palestinians Injuries    0.0\n",
       "Israelis Injuries        0.0\n",
       "Palestinians Killed      0.0\n",
       "Israelis Killed          0.0\n",
       "dtype: float64"
      ]
     },
     "execution_count": 55,
     "metadata": {},
     "output_type": "execute_result"
    }
   ],
   "source": [
    "df.isnull().sum()/len(df)*100"
   ]
  },
  {
   "cell_type": "code",
   "execution_count": 56,
   "metadata": {},
   "outputs": [
    {
     "data": {
      "image/png": "[encoded data removed]",
      "text/plain": [
       "<Figure size 1600x600 with 1 Axes>"
      ]
     },
     "metadata": {},
     "output_type": "display_data"
    }
   ],
   "source": [
    "plt.figure(figsize=(16, 6))\n",
    "missingPercentage = df.isnull().sum()/len(df)*100\n",
    "missingPercentage.plot(kind='bar')\n",
    "plt.xlabel('Columns')\n",
    "plt.ylabel('Percentage')\n",
    "plt.title('Percentage of Missing Values in each Column')\n",
    "plt.show()"
   ]
  },
  {
   "cell_type": "markdown",
   "metadata": {},
   "source": [
    "There is No Null Value in Data."
   ]
  },
  {
   "cell_type": "markdown",
   "metadata": {},
   "source": [
    "# **Task 4**"
   ]
  },
  {
   "cell_type": "code",
   "execution_count": 57,
   "metadata": {},
   "outputs": [
    {
     "data": {
      "text/html": [
       "<div>\n",
       "<style scoped>\n",
       "    .dataframe tbody tr th:only-of-type {\n",
       "        vertical-align: middle;\n",
       "    }\n",
       "\n",
       "    .dataframe tbody tr th {\n",
       "        vertical-align: top;\n",
       "    }\n",
       "\n",
       "    .dataframe thead th {\n",
       "        text-align: right;\n",
       "    }\n",
       "</style>\n",
       "<table border=\"1\" class=\"dataframe\">\n",
       "  <thead>\n",
       "    <tr style=\"text-align: right;\">\n",
       "      <th></th>\n",
       "      <th>Year</th>\n",
       "      <th>Month</th>\n",
       "      <th>Palestinians Injuries</th>\n",
       "      <th>Israelis Injuries</th>\n",
       "      <th>Palestinians Killed</th>\n",
       "      <th>Israelis Killed</th>\n",
       "    </tr>\n",
       "  </thead>\n",
       "  <tbody>\n",
       "    <tr>\n",
       "      <th>0</th>\n",
       "      <td>2000.0</td>\n",
       "      <td>December</td>\n",
       "      <td>781</td>\n",
       "      <td>15</td>\n",
       "      <td>51</td>\n",
       "      <td>8</td>\n",
       "    </tr>\n",
       "    <tr>\n",
       "      <th>1</th>\n",
       "      <td>2000.0</td>\n",
       "      <td>November</td>\n",
       "      <td>3838</td>\n",
       "      <td>15</td>\n",
       "      <td>112</td>\n",
       "      <td>22</td>\n",
       "    </tr>\n",
       "    <tr>\n",
       "      <th>2</th>\n",
       "      <td>2000.0</td>\n",
       "      <td>October</td>\n",
       "      <td>5984</td>\n",
       "      <td>15</td>\n",
       "      <td>104</td>\n",
       "      <td>10</td>\n",
       "    </tr>\n",
       "    <tr>\n",
       "      <th>3</th>\n",
       "      <td>2000.0</td>\n",
       "      <td>September</td>\n",
       "      <td>577</td>\n",
       "      <td>15</td>\n",
       "      <td>16</td>\n",
       "      <td>1</td>\n",
       "    </tr>\n",
       "    <tr>\n",
       "      <th>4</th>\n",
       "      <td>2001.0</td>\n",
       "      <td>December</td>\n",
       "      <td>304</td>\n",
       "      <td>15</td>\n",
       "      <td>67</td>\n",
       "      <td>36</td>\n",
       "    </tr>\n",
       "  </tbody>\n",
       "</table>\n",
       "</div>"
      ],
      "text/plain": [
       "     Year      Month  Palestinians Injuries  Israelis Injuries  \\\n",
       "0  2000.0   December                    781                 15   \n",
       "1  2000.0   November                   3838                 15   \n",
       "2  2000.0    October                   5984                 15   \n",
       "3  2000.0  September                    577                 15   \n",
       "4  2001.0   December                    304                 15   \n",
       "\n",
       "   Palestinians Killed  Israelis Killed  \n",
       "0                   51                8  \n",
       "1                  112               22  \n",
       "2                  104               10  \n",
       "3                   16                1  \n",
       "4                   67               36  "
      ]
     },
     "execution_count": 57,
     "metadata": {},
     "output_type": "execute_result"
    }
   ],
   "source": [
    "df.head()"
   ]
  },
  {
   "cell_type": "code",
   "execution_count": 58,
   "metadata": {},
   "outputs": [
    {
     "data": {
      "text/html": [
       "<div>\n",
       "<style scoped>\n",
       "    .dataframe tbody tr th:only-of-type {\n",
       "        vertical-align: middle;\n",
       "    }\n",
       "\n",
       "    .dataframe tbody tr th {\n",
       "        vertical-align: top;\n",
       "    }\n",
       "\n",
       "    .dataframe thead th {\n",
       "        text-align: right;\n",
       "    }\n",
       "</style>\n",
       "<table border=\"1\" class=\"dataframe\">\n",
       "  <thead>\n",
       "    <tr style=\"text-align: right;\">\n",
       "      <th></th>\n",
       "      <th>Year</th>\n",
       "      <th>Month</th>\n",
       "      <th>Palestinians Injuries</th>\n",
       "      <th>Israelis Injuries</th>\n",
       "      <th>Palestinians Killed</th>\n",
       "      <th>Israelis Killed</th>\n",
       "    </tr>\n",
       "  </thead>\n",
       "  <tbody>\n",
       "    <tr>\n",
       "      <th>244</th>\n",
       "      <td>2021.0</td>\n",
       "      <td>January</td>\n",
       "      <td>577</td>\n",
       "      <td>15</td>\n",
       "      <td>4</td>\n",
       "      <td>0</td>\n",
       "    </tr>\n",
       "    <tr>\n",
       "      <th>245</th>\n",
       "      <td>2021.0</td>\n",
       "      <td>February</td>\n",
       "      <td>577</td>\n",
       "      <td>15</td>\n",
       "      <td>1</td>\n",
       "      <td>0</td>\n",
       "    </tr>\n",
       "    <tr>\n",
       "      <th>246</th>\n",
       "      <td>2021.0</td>\n",
       "      <td>March</td>\n",
       "      <td>577</td>\n",
       "      <td>15</td>\n",
       "      <td>4</td>\n",
       "      <td>0</td>\n",
       "    </tr>\n",
       "    <tr>\n",
       "      <th>247</th>\n",
       "      <td>2021.0</td>\n",
       "      <td>April</td>\n",
       "      <td>577</td>\n",
       "      <td>15</td>\n",
       "      <td>1</td>\n",
       "      <td>0</td>\n",
       "    </tr>\n",
       "    <tr>\n",
       "      <th>248</th>\n",
       "      <td>2021.0</td>\n",
       "      <td>May</td>\n",
       "      <td>577</td>\n",
       "      <td>15</td>\n",
       "      <td>26</td>\n",
       "      <td>3</td>\n",
       "    </tr>\n",
       "  </tbody>\n",
       "</table>\n",
       "</div>"
      ],
      "text/plain": [
       "       Year     Month  Palestinians Injuries  Israelis Injuries  \\\n",
       "244  2021.0   January                    577                 15   \n",
       "245  2021.0  February                    577                 15   \n",
       "246  2021.0     March                    577                 15   \n",
       "247  2021.0     April                    577                 15   \n",
       "248  2021.0       May                    577                 15   \n",
       "\n",
       "     Palestinians Killed  Israelis Killed  \n",
       "244                    4                0  \n",
       "245                    1                0  \n",
       "246                    4                0  \n",
       "247                    1                0  \n",
       "248                   26                3  "
      ]
     },
     "execution_count": 58,
     "metadata": {},
     "output_type": "execute_result"
    }
   ],
   "source": [
    "df.tail()"
   ]
  },
  {
   "cell_type": "code",
   "execution_count": 59,
   "metadata": {},
   "outputs": [
    {
     "data": {
      "text/plain": [
       "(249, 6)"
      ]
     },
     "execution_count": 59,
     "metadata": {},
     "output_type": "execute_result"
    }
   ],
   "source": [
    "df.shape"
   ]
  },
  {
   "cell_type": "code",
   "execution_count": 60,
   "metadata": {},
   "outputs": [
    {
     "name": "stdout",
     "output_type": "stream",
     "text": [
      "<class 'pandas.core.frame.DataFrame'>\n",
      "RangeIndex: 249 entries, 0 to 248\n",
      "Data columns (total 6 columns):\n",
      " #   Column                 Non-Null Count  Dtype \n",
      "---  ------                 --------------  ----- \n",
      " 0   Year                   249 non-null    object\n",
      " 1   Month                  249 non-null    object\n",
      " 2   Palestinians Injuries  249 non-null    int64 \n",
      " 3   Israelis Injuries      249 non-null    int64 \n",
      " 4   Palestinians Killed    249 non-null    int64 \n",
      " 5   Israelis Killed        249 non-null    int64 \n",
      "dtypes: int64(4), object(2)\n",
      "memory usage: 11.8+ KB\n"
     ]
    }
   ],
   "source": [
    "df.info()"
   ]
  },
  {
   "cell_type": "code",
   "execution_count": 61,
   "metadata": {},
   "outputs": [
    {
     "data": {
      "text/html": [
       "<div>\n",
       "<style scoped>\n",
       "    .dataframe tbody tr th:only-of-type {\n",
       "        vertical-align: middle;\n",
       "    }\n",
       "\n",
       "    .dataframe tbody tr th {\n",
       "        vertical-align: top;\n",
       "    }\n",
       "\n",
       "    .dataframe thead th {\n",
       "        text-align: right;\n",
       "    }\n",
       "</style>\n",
       "<table border=\"1\" class=\"dataframe\">\n",
       "  <thead>\n",
       "    <tr style=\"text-align: right;\">\n",
       "      <th></th>\n",
       "      <th>Palestinians Injuries</th>\n",
       "      <th>Israelis Injuries</th>\n",
       "      <th>Palestinians Killed</th>\n",
       "      <th>Israelis Killed</th>\n",
       "    </tr>\n",
       "  </thead>\n",
       "  <tbody>\n",
       "    <tr>\n",
       "      <th>count</th>\n",
       "      <td>249.000000</td>\n",
       "      <td>249.000000</td>\n",
       "      <td>249.000000</td>\n",
       "      <td>249.000000</td>\n",
       "    </tr>\n",
       "    <tr>\n",
       "      <th>mean</th>\n",
       "      <td>577.457831</td>\n",
       "      <td>27.891566</td>\n",
       "      <td>40.160643</td>\n",
       "      <td>5.120482</td>\n",
       "    </tr>\n",
       "    <tr>\n",
       "      <th>std</th>\n",
       "      <td>1446.361703</td>\n",
       "      <td>148.982139</td>\n",
       "      <td>129.148851</td>\n",
       "      <td>11.653323</td>\n",
       "    </tr>\n",
       "    <tr>\n",
       "      <th>min</th>\n",
       "      <td>26.000000</td>\n",
       "      <td>0.000000</td>\n",
       "      <td>0.000000</td>\n",
       "      <td>0.000000</td>\n",
       "    </tr>\n",
       "    <tr>\n",
       "      <th>25%</th>\n",
       "      <td>152.000000</td>\n",
       "      <td>14.000000</td>\n",
       "      <td>4.000000</td>\n",
       "      <td>0.000000</td>\n",
       "    </tr>\n",
       "    <tr>\n",
       "      <th>50%</th>\n",
       "      <td>286.000000</td>\n",
       "      <td>15.000000</td>\n",
       "      <td>12.000000</td>\n",
       "      <td>1.000000</td>\n",
       "    </tr>\n",
       "    <tr>\n",
       "      <th>75%</th>\n",
       "      <td>577.000000</td>\n",
       "      <td>15.000000</td>\n",
       "      <td>37.000000</td>\n",
       "      <td>5.000000</td>\n",
       "    </tr>\n",
       "    <tr>\n",
       "      <th>max</th>\n",
       "      <td>13735.000000</td>\n",
       "      <td>2347.000000</td>\n",
       "      <td>1590.000000</td>\n",
       "      <td>122.000000</td>\n",
       "    </tr>\n",
       "  </tbody>\n",
       "</table>\n",
       "</div>"
      ],
      "text/plain": [
       "       Palestinians Injuries  Israelis Injuries  Palestinians Killed  \\\n",
       "count             249.000000         249.000000           249.000000   \n",
       "mean              577.457831          27.891566            40.160643   \n",
       "std              1446.361703         148.982139           129.148851   \n",
       "min                26.000000           0.000000             0.000000   \n",
       "25%               152.000000          14.000000             4.000000   \n",
       "50%               286.000000          15.000000            12.000000   \n",
       "75%               577.000000          15.000000            37.000000   \n",
       "max             13735.000000        2347.000000          1590.000000   \n",
       "\n",
       "       Israelis Killed  \n",
       "count       249.000000  \n",
       "mean          5.120482  \n",
       "std          11.653323  \n",
       "min           0.000000  \n",
       "25%           0.000000  \n",
       "50%           1.000000  \n",
       "75%           5.000000  \n",
       "max         122.000000  "
      ]
     },
     "execution_count": 61,
     "metadata": {},
     "output_type": "execute_result"
    }
   ],
   "source": [
    "df.describe()"
   ]
  },
  {
   "cell_type": "code",
   "execution_count": 62,
   "metadata": {},
   "outputs": [
    {
     "data": {
      "text/plain": [
       "122"
      ]
     },
     "execution_count": 62,
     "metadata": {},
     "output_type": "execute_result"
    }
   ],
   "source": [
    "df['Israelis Killed'].max()"
   ]
  },
  {
   "cell_type": "code",
   "execution_count": 63,
   "metadata": {},
   "outputs": [
    {
     "data": {
      "text/plain": [
       "0"
      ]
     },
     "execution_count": 63,
     "metadata": {},
     "output_type": "execute_result"
    }
   ],
   "source": [
    "df['Israelis Killed'].min()"
   ]
  },
  {
   "cell_type": "code",
   "execution_count": 64,
   "metadata": {},
   "outputs": [
    {
     "data": {
      "text/plain": [
       "1590"
      ]
     },
     "execution_count": 64,
     "metadata": {},
     "output_type": "execute_result"
    }
   ],
   "source": [
    "df['Palestinians Killed'].max()"
   ]
  },
  {
   "cell_type": "code",
   "execution_count": 65,
   "metadata": {},
   "outputs": [
    {
     "data": {
      "text/plain": [
       "0"
      ]
     },
     "execution_count": 65,
     "metadata": {},
     "output_type": "execute_result"
    }
   ],
   "source": [
    "df['Palestinians Killed'].min()"
   ]
  },
  {
   "cell_type": "code",
   "execution_count": 66,
   "metadata": {},
   "outputs": [
    {
     "data": {
      "text/plain": [
       "165    1590\n",
       "Name: Palestinians Killed, dtype: int64"
      ]
     },
     "execution_count": 66,
     "metadata": {},
     "output_type": "execute_result"
    }
   ],
   "source": [
    "df['Palestinians Killed'].loc[df['Palestinians Killed']==1590]"
   ]
  },
  {
   "cell_type": "code",
   "execution_count": 67,
   "metadata": {},
   "outputs": [
    {
     "data": {
      "text/plain": [
       "25    122\n",
       "Name: Israelis Killed, dtype: int64"
      ]
     },
     "execution_count": 67,
     "metadata": {},
     "output_type": "execute_result"
    }
   ],
   "source": [
    "# Which months typically see the highest casualties?\n",
    "df['Israelis Killed'].loc[df['Israelis Killed']==122]\n"
   ]
  },
  {
   "cell_type": "code",
   "execution_count": 68,
   "metadata": {},
   "outputs": [
    {
     "data": {
      "text/plain": [
       "Year     2002.0\n",
       "Month     March\n",
       "Name: 25, dtype: object"
      ]
     },
     "execution_count": 68,
     "metadata": {},
     "output_type": "execute_result"
    }
   ],
   "source": [
    "df.loc[165,['Year','Month']]\n",
    "df.loc[25,['Year','Month']]\n",
    "\n"
   ]
  },
  {
   "cell_type": "code",
   "execution_count": 69,
   "metadata": {},
   "outputs": [
    {
     "name": "stdout",
     "output_type": "stream",
     "text": [
      "The highest death toll ever in Palistine occurred in July 2014 when 1590 people were killed in attacks.\n",
      "The highest death toll ever in Israel occurred in March 2002 when 122 people were killed in attacks.\n"
     ]
    }
   ],
   "source": [
    "print('The highest death toll ever in Palistine occurred in July 2014 when 1590 people were killed in attacks.')\n",
    "print('The highest death toll ever in Israel occurred in March 2002 when 122 people were killed in attacks.')"
   ]
  },
  {
   "cell_type": "code",
   "execution_count": 70,
   "metadata": {},
   "outputs": [
    {
     "data": {
      "image/png": "[encoded data removed]",
      "text/plain": [
       "<Figure size 640x480 with 1 Axes>"
      ]
     },
     "metadata": {},
     "output_type": "display_data"
    }
   ],
   "source": [
    "plt.bar([\"Palestine\", \"Israel\"], [1590, 122], color=['b','g'])  \n",
    "plt.ylabel('Deaths')\n",
    "plt.xticks([0,1], ['Palestine', 'Israel'])\n",
    "plt.title('Highest Deaths by Country')\n",
    "plt.show()\n",
    "\n"
   ]
  },
  {
   "cell_type": "code",
   "execution_count": 71,
   "metadata": {},
   "outputs": [
    {
     "data": {
      "application/vnd.plotly.v1+json": {
       "config": {
        "plotlyServerURL": "https://plot.ly"
       },
       "data": [
        {
         "hovertemplate": "Year=2000.0<br>Palestinians Killed=%{x}<br>Israelis Killed=%{y}<extra></extra>",
         "legendgroup": "2000.0",
         "marker": {
          "color": "#636efa",
          "symbol": "circle"
         },
         "mode": "markers",
         "name": "2000.0",
         "orientation": "v",
         "showlegend": true,
         "type": "scatter",
         "x": [
          51,
          112,
          104,
          16
         ],
         "xaxis": "x",
         "y": [
          8,
          22,
          10,
          1
         ],
         "yaxis": "y"
        },
        {
         "hovertemplate": "Year=2001.0<br>Palestinians Killed=%{x}<br>Israelis Killed=%{y}<extra></extra>",
         "legendgroup": "2001.0",
         "marker": {
          "color": "#EF553B",
          "symbol": "circle"
         },
         "mode": "markers",
         "name": "2001.0",
         "orientation": "v",
         "showlegend": true,
         "type": "scatter",
         "x": [
          67,
          39,
          89,
          59,
          37,
          32,
          13,
          46,
          23,
          27,
          19,
          19
         ],
         "xaxis": "x",
         "y": [
          36,
          14,
          14,
          13,
          26,
          10,
          28,
          17,
          7,
          8,
          13,
          6
         ],
         "yaxis": "y"
        },
        {
         "hovertemplate": "Year=2002.0<br>Palestinians Killed=%{x}<br>Israelis Killed=%{y}<extra></extra>",
         "legendgroup": "2002.0",
         "marker": {
          "color": "#00cc96",
          "symbol": "circle"
         },
         "mode": "markers",
         "name": "2002.0",
         "orientation": "v",
         "showlegend": true,
         "type": "scatter",
         "x": [
          72,
          46,
          66,
          51,
          53,
          43,
          57,
          48,
          246,
          237,
          85,
          28
         ],
         "xaxis": "x",
         "y": [
          7,
          40,
          22,
          13,
          13,
          25,
          57,
          29,
          46,
          122,
          29,
          16
         ],
         "yaxis": "y"
        },
        {
         "hovertemplate": "Year=2003.0<br>Palestinians Killed=%{x}<br>Israelis Killed=%{y}<extra></extra>",
         "legendgroup": "2003.0",
         "marker": {
          "color": "#ab63fa",
          "symbol": "circle"
         },
         "mode": "markers",
         "name": "2003.0",
         "orientation": "v",
         "showlegend": true,
         "type": "scatter",
         "x": [
          48,
          30,
          58,
          29,
          26,
          4,
          59,
          61,
          59,
          85,
          69,
          60
         ],
         "xaxis": "x",
         "y": [
          6,
          4,
          27,
          21,
          25,
          2,
          28,
          13,
          6,
          23,
          8,
          22
         ],
         "yaxis": "y"
        },
        {
         "hovertemplate": "Year=2004.0<br>Palestinians Killed=%{x}<br>Israelis Killed=%{y}<extra></extra>",
         "legendgroup": "2004.0",
         "marker": {
          "color": "#FFA15A",
          "symbol": "circle"
         },
         "mode": "markers",
         "name": "2004.0",
         "orientation": "v",
         "showlegend": true,
         "type": "scatter",
         "x": [
          61,
          42,
          145,
          112,
          39,
          0,
          59,
          113,
          55,
          79,
          54,
          27
         ],
         "xaxis": "x",
         "y": [
          8,
          3,
          3,
          11,
          17,
          0,
          3,
          19,
          3,
          11,
          11,
          15
         ],
         "yaxis": "y"
        },
        {
         "hovertemplate": "Year=2005.0<br>Palestinians Killed=%{x}<br>Israelis Killed=%{y}<extra></extra>",
         "legendgroup": "2005.0",
         "marker": {
          "color": "#19d3f3",
          "symbol": "circle"
         },
         "mode": "markers",
         "name": "2005.0",
         "orientation": "v",
         "showlegend": true,
         "type": "scatter",
         "x": [
          20,
          15,
          22,
          17,
          11,
          25,
          5,
          10,
          5,
          1,
          9,
          50
         ],
         "xaxis": "x",
         "y": [
          8,
          1,
          10,
          1,
          0,
          8,
          4,
          1,
          0,
          0,
          5,
          13
         ],
         "yaxis": "y"
        },
        {
         "hovertemplate": "Year=2006.0<br>Palestinians Killed=%{x}<br>Israelis Killed=%{y}<extra></extra>",
         "legendgroup": "2006.0",
         "marker": {
          "color": "#FF6692",
          "symbol": "circle"
         },
         "mode": "markers",
         "name": "2006.0",
         "orientation": "v",
         "showlegend": true,
         "type": "scatter",
         "x": [
          14,
          134,
          61,
          32,
          74,
          180,
          43,
          37,
          31,
          15,
          31,
          13
         ],
         "xaxis": "x",
         "y": [
          0,
          0,
          0,
          1,
          1,
          2,
          3,
          0,
          7,
          5,
          1,
          0
         ],
         "yaxis": "y"
        },
        {
         "hovertemplate": "Year=2007.0<br>Palestinians Killed=%{x}<br>Israelis Killed=%{y}<extra></extra>",
         "legendgroup": "2007.0",
         "marker": {
          "color": "#B6E880",
          "symbol": "circle"
         },
         "mode": "markers",
         "name": "2007.0",
         "orientation": "v",
         "showlegend": true,
         "type": "scatter",
         "x": [
          61,
          31,
          36,
          34,
          47,
          27,
          40,
          62,
          16,
          9,
          12,
          10
         ],
         "xaxis": "x",
         "y": [
          2,
          1,
          2,
          0,
          0,
          1,
          0,
          2,
          0,
          0,
          1,
          3
         ],
         "yaxis": "y"
        },
        {
         "hovertemplate": "Year=2008.0<br>Palestinians Killed=%{x}<br>Israelis Killed=%{y}<extra></extra>",
         "legendgroup": "2008.0",
         "marker": {
          "color": "#FF97FF",
          "symbol": "circle"
         },
         "mode": "markers",
         "name": "2008.0",
         "orientation": "v",
         "showlegend": true,
         "type": "scatter",
         "x": [
          432,
          15,
          4,
          3,
          0,
          8,
          30,
          40,
          72,
          114,
          79,
          89
         ],
         "xaxis": "x",
         "y": [
          4,
          0,
          1,
          0,
          4,
          4,
          1,
          2,
          8,
          12,
          2,
          1
         ],
         "yaxis": "y"
        },
        {
         "hovertemplate": "Year=2009.0<br>Palestinians Killed=%{x}<br>Israelis Killed=%{y}<extra></extra>",
         "legendgroup": "2009.0",
         "marker": {
          "color": "#FECB52",
          "symbol": "circle"
         },
         "mode": "markers",
         "name": "2009.0",
         "orientation": "v",
         "showlegend": true,
         "type": "scatter",
         "x": [
          6,
          1,
          0,
          9,
          6,
          2,
          4,
          6,
          6,
          9,
          9,
          978
         ],
         "xaxis": "x",
         "y": [
          1,
          0,
          0,
          0,
          0,
          0,
          0,
          1,
          1,
          0,
          0,
          6
         ],
         "yaxis": "y"
        },
        {
         "hovertemplate": "Year=2010.0<br>Palestinians Killed=%{x}<br>Israelis Killed=%{y}<extra></extra>",
         "legendgroup": "2010.0",
         "marker": {
          "color": "#636efa",
          "symbol": "circle"
         },
         "mode": "markers",
         "name": "2010.0",
         "orientation": "v",
         "showlegend": true,
         "type": "scatter",
         "x": [
          13,
          3,
          6,
          13,
          2,
          5,
          15,
          2,
          5,
          8,
          2,
          8
         ],
         "xaxis": "x",
         "y": [
          0,
          0,
          0,
          0,
          4,
          0,
          1,
          0,
          0,
          2,
          2,
          0
         ],
         "yaxis": "y"
        },
        {
         "hovertemplate": "Year=2011.0<br>Palestinians Killed=%{x}<br>Israelis Killed=%{y}<extra></extra>",
         "legendgroup": "2011.0",
         "marker": {
          "color": "#EF553B",
          "symbol": "circle"
         },
         "mode": "markers",
         "name": "2011.0",
         "orientation": "v",
         "showlegend": true,
         "type": "scatter",
         "x": [
          8,
          4,
          12,
          2,
          30,
          4,
          0,
          2,
          24,
          15,
          6,
          10
         ],
         "xaxis": "x",
         "y": [
          0,
          0,
          0,
          2,
          1,
          0,
          0,
          0,
          2,
          5,
          0,
          0
         ],
         "yaxis": "y"
        },
        {
         "hovertemplate": "Year=2012.0<br>Palestinians Killed=%{x}<br>Israelis Killed=%{y}<extra></extra>",
         "legendgroup": "2012.0",
         "marker": {
          "color": "#00cc96",
          "symbol": "circle"
         },
         "mode": "markers",
         "name": "2012.0",
         "orientation": "v",
         "showlegend": true,
         "type": "scatter",
         "x": [
          2,
          181,
          12,
          8,
          1,
          3,
          15,
          0,
          1,
          28,
          2,
          2
         ],
         "xaxis": "x",
         "y": [
          0,
          6,
          0,
          0,
          0,
          0,
          1,
          0,
          0,
          0,
          0,
          0
         ],
         "yaxis": "y"
        },
        {
         "hovertemplate": "Year=2013.0<br>Palestinians Killed=%{x}<br>Israelis Killed=%{y}<extra></extra>",
         "legendgroup": "2013.0",
         "marker": {
          "color": "#ab63fa",
          "symbol": "circle"
         },
         "mode": "markers",
         "name": "2013.0",
         "orientation": "v",
         "showlegend": true,
         "type": "scatter",
         "x": [
          5,
          9,
          4,
          2,
          6,
          1,
          0,
          0,
          3,
          2,
          1,
          5
         ],
         "xaxis": "x",
         "y": [
          1,
          1,
          1,
          2,
          0,
          0,
          0,
          0,
          1,
          0,
          0,
          0
         ],
         "yaxis": "y"
        },
        {
         "hovertemplate": "Year=2014.0<br>Palestinians Killed=%{x}<br>Israelis Killed=%{y}<extra></extra>",
         "legendgroup": "2014.0",
         "marker": {
          "color": "#FFA15A",
          "symbol": "circle"
         },
         "mode": "markers",
         "name": "2014.0",
         "orientation": "v",
         "showlegend": true,
         "type": "scatter",
         "x": [
          5,
          8,
          8,
          20,
          614,
          1590,
          10,
          3,
          0,
          12,
          3,
          6
         ],
         "xaxis": "x",
         "y": [
          0,
          10,
          2,
          0,
          9,
          59,
          3,
          1,
          1,
          0,
          0,
          0
         ],
         "yaxis": "y"
        },
        {
         "hovertemplate": "Year=2015.0<br>Palestinians Killed=%{x}<br>Israelis Killed=%{y}<extra></extra>",
         "legendgroup": "2015.0",
         "marker": {
          "color": "#19d3f3",
          "symbol": "circle"
         },
         "mode": "markers",
         "name": "2015.0",
         "orientation": "v",
         "showlegend": true,
         "type": "scatter",
         "x": [
          40,
          34,
          74,
          4,
          9,
          7,
          3,
          1,
          7,
          1,
          4,
          4
         ],
         "xaxis": "x",
         "y": [
          2,
          8,
          10,
          1,
          0,
          0,
          2,
          0,
          1,
          0,
          0,
          0
         ],
         "yaxis": "y"
        },
        {
         "hovertemplate": "Year=2016.0<br>Palestinians Killed=%{x}<br>Israelis Killed=%{y}<extra></extra>",
         "legendgroup": "2016.0",
         "marker": {
          "color": "#FF6692",
          "symbol": "circle"
         },
         "mode": "markers",
         "name": "2016.0",
         "orientation": "v",
         "showlegend": true,
         "type": "scatter",
         "x": [
          5,
          6,
          8,
          11,
          3,
          9,
          7,
          3,
          3,
          23,
          17,
          20
         ],
         "xaxis": "x",
         "y": [
          0,
          0,
          2,
          0,
          0,
          1,
          5,
          0,
          0,
          0,
          2,
          2
         ],
         "yaxis": "y"
        },
        {
         "hovertemplate": "Year=2017.0<br>Palestinians Killed=%{x}<br>Israelis Killed=%{y}<extra></extra>",
         "legendgroup": "2017.0",
         "marker": {
          "color": "#B6E880",
          "symbol": "circle"
         },
         "mode": "markers",
         "name": "2017.0",
         "orientation": "v",
         "showlegend": true,
         "type": "scatter",
         "x": [
          18,
          2,
          13,
          2,
          2,
          20,
          8,
          6,
          5,
          7,
          6,
          7
         ],
         "xaxis": "x",
         "y": [
          0,
          2,
          1,
          3,
          0,
          5,
          1,
          0,
          1,
          0,
          0,
          6
         ],
         "yaxis": "y"
        },
        {
         "hovertemplate": "Year=2018.0<br>Palestinians Killed=%{x}<br>Israelis Killed=%{y}<extra></extra>",
         "legendgroup": "2018.0",
         "marker": {
          "color": "#FF97FF",
          "symbol": "circle"
         },
         "mode": "markers",
         "name": "2018.0",
         "orientation": "v",
         "showlegend": true,
         "type": "scatter",
         "x": [
          14,
          25,
          32,
          25,
          16,
          24,
          18,
          66,
          34,
          20,
          9,
          7
         ],
         "xaxis": "x",
         "y": [
          2,
          1,
          2,
          1,
          0,
          2,
          0,
          1,
          0,
          3,
          1,
          1
         ],
         "yaxis": "y"
        },
        {
         "hovertemplate": "Year=2019.0<br>Palestinians Killed=%{x}<br>Israelis Killed=%{y}<extra></extra>",
         "legendgroup": "2019.0",
         "marker": {
          "color": "#FECB52",
          "symbol": "circle"
         },
         "mode": "markers",
         "name": "2019.0",
         "orientation": "v",
         "showlegend": true,
         "type": "scatter",
         "x": [
          1,
          43,
          3,
          5,
          11,
          4,
          3,
          33,
          8,
          21,
          8,
          9
         ],
         "xaxis": "x",
         "y": [
          0,
          0,
          0,
          1,
          2,
          1,
          0,
          4,
          0,
          2,
          1,
          0
         ],
         "yaxis": "y"
        },
        {
         "hovertemplate": "Year=2020.0<br>Palestinians Killed=%{x}<br>Israelis Killed=%{y}<extra></extra>",
         "legendgroup": "2020.0",
         "marker": {
          "color": "#636efa",
          "symbol": "circle"
         },
         "mode": "markers",
         "name": "2020.0",
         "orientation": "v",
         "showlegend": true,
         "type": "scatter",
         "x": [
          2,
          2,
          2,
          1,
          3,
          1,
          1,
          4,
          1,
          2,
          9,
          6
         ],
         "xaxis": "x",
         "y": [
          1,
          0,
          0,
          0,
          1,
          0,
          0,
          1,
          0,
          0,
          0,
          0
         ],
         "yaxis": "y"
        },
        {
         "hovertemplate": "Year=2021.0<br>Palestinians Killed=%{x}<br>Israelis Killed=%{y}<extra></extra>",
         "legendgroup": "2021.0",
         "marker": {
          "color": "#EF553B",
          "symbol": "circle"
         },
         "mode": "markers",
         "name": "2021.0",
         "orientation": "v",
         "showlegend": true,
         "type": "scatter",
         "x": [
          4,
          1,
          4,
          1,
          26
         ],
         "xaxis": "x",
         "y": [
          0,
          0,
          0,
          0,
          3
         ],
         "yaxis": "y"
        }
       ],
       "layout": {
        "legend": {
         "title": {
          "text": "Year"
         },
         "tracegroupgap": 0
        },
        "margin": {
         "t": 60
        },
        "template": {
         "data": {
          "bar": [
           {
            "error_x": {
             "color": "#2a3f5f"
            },
            "error_y": {
             "color": "#2a3f5f"
            },
            "marker": {
             "line": {
              "color": "#E5ECF6",
              "width": 0.5
             },
             "pattern": {
              "fillmode": "overlay",
              "size": 10,
              "solidity": 0.2
             }
            },
            "type": "bar"
           }
          ],
          "barpolar": [
           {
            "marker": {
             "line": {
              "color": "#E5ECF6",
              "width": 0.5
             },
             "pattern": {
              "fillmode": "overlay",
              "size": 10,
              "solidity": 0.2
             }
            },
            "type": "barpolar"
           }
          ],
          "carpet": [
           {
            "aaxis": {
             "endlinecolor": "#2a3f5f",
             "gridcolor": "white",
             "linecolor": "white",
             "minorgridcolor": "white",
             "startlinecolor": "#2a3f5f"
            },
            "baxis": {
             "endlinecolor": "#2a3f5f",
             "gridcolor": "white",
             "linecolor": "white",
             "minorgridcolor": "white",
             "startlinecolor": "#2a3f5f"
            },
            "type": "carpet"
           }
          ],
          "choropleth": [
           {
            "colorbar": {
             "outlinewidth": 0,
             "ticks": ""
            },
            "type": "choropleth"
           }
          ],
          "contour": [
           {
            "colorbar": {
             "outlinewidth": 0,
             "ticks": ""
            },
            "colorscale": [
             [
              0,
              "#0d0887"
             ],
             [
              0.1111111111111111,
              "#46039f"
             ],
             [
              0.2222222222222222,
              "#7201a8"
             ],
             [
              0.3333333333333333,
              "#9c179e"
             ],
             [
              0.4444444444444444,
              "#bd3786"
             ],
             [
              0.5555555555555556,
              "#d8576b"
             ],
             [
              0.6666666666666666,
              "#ed7953"
             ],
             [
              0.7777777777777778,
              "#fb9f3a"
             ],
             [
              0.8888888888888888,
              "#fdca26"
             ],
             [
              1,
              "#f0f921"
             ]
            ],
            "type": "contour"
           }
          ],
          "contourcarpet": [
           {
            "colorbar": {
             "outlinewidth": 0,
             "ticks": ""
            },
            "type": "contourcarpet"
           }
          ],
          "heatmap": [
           {
            "colorbar": {
             "outlinewidth": 0,
             "ticks": ""
            },
            "colorscale": [
             [
              0,
              "#0d0887"
             ],
             [
              0.1111111111111111,
              "#46039f"
             ],
             [
              0.2222222222222222,
              "#7201a8"
             ],
             [
              0.3333333333333333,
              "#9c179e"
             ],
             [
              0.4444444444444444,
              "#bd3786"
             ],
             [
              0.5555555555555556,
              "#d8576b"
             ],
             [
              0.6666666666666666,
              "#ed7953"
             ],
             [
              0.7777777777777778,
              "#fb9f3a"
             ],
             [
              0.8888888888888888,
              "#fdca26"
             ],
             [
              1,
              "#f0f921"
             ]
            ],
            "type": "heatmap"
           }
          ],
          "heatmapgl": [
           {
            "colorbar": {
             "outlinewidth": 0,
             "ticks": ""
            },
            "colorscale": [
             [
              0,
              "#0d0887"
             ],
             [
              0.1111111111111111,
              "#46039f"
             ],
             [
              0.2222222222222222,
              "#7201a8"
             ],
             [
              0.3333333333333333,
              "#9c179e"
             ],
             [
              0.4444444444444444,
              "#bd3786"
             ],
             [
              0.5555555555555556,
              "#d8576b"
             ],
             [
              0.6666666666666666,
              "#ed7953"
             ],
             [
              0.7777777777777778,
              "#fb9f3a"
             ],
             [
              0.8888888888888888,
              "#fdca26"
             ],
             [
              1,
              "#f0f921"
             ]
            ],
            "type": "heatmapgl"
           }
          ],
          "histogram": [
           {
            "marker": {
             "pattern": {
              "fillmode": "overlay",
              "size": 10,
              "solidity": 0.2
             }
            },
            "type": "histogram"
           }
          ],
          "histogram2d": [
           {
            "colorbar": {
             "outlinewidth": 0,
             "ticks": ""
            },
            "colorscale": [
             [
              0,
              "#0d0887"
             ],
             [
              0.1111111111111111,
              "#46039f"
             ],
             [
              0.2222222222222222,
              "#7201a8"
             ],
             [
              0.3333333333333333,
              "#9c179e"
             ],
             [
              0.4444444444444444,
              "#bd3786"
             ],
             [
              0.5555555555555556,
              "#d8576b"
             ],
             [
              0.6666666666666666,
              "#ed7953"
             ],
             [
              0.7777777777777778,
              "#fb9f3a"
             ],
             [
              0.8888888888888888,
              "#fdca26"
             ],
             [
              1,
              "#f0f921"
             ]
            ],
            "type": "histogram2d"
           }
          ],
          "histogram2dcontour": [
           {
            "colorbar": {
             "outlinewidth": 0,
             "ticks": ""
            },
            "colorscale": [
             [
              0,
              "#0d0887"
             ],
             [
              0.1111111111111111,
              "#46039f"
             ],
             [
              0.2222222222222222,
              "#7201a8"
             ],
             [
              0.3333333333333333,
              "#9c179e"
             ],
             [
              0.4444444444444444,
              "#bd3786"
             ],
             [
              0.5555555555555556,
              "#d8576b"
             ],
             [
              0.6666666666666666,
              "#ed7953"
             ],
             [
              0.7777777777777778,
              "#fb9f3a"
             ],
             [
              0.8888888888888888,
              "#fdca26"
             ],
             [
              1,
              "#f0f921"
             ]
            ],
            "type": "histogram2dcontour"
           }
          ],
          "mesh3d": [
           {
            "colorbar": {
             "outlinewidth": 0,
             "ticks": ""
            },
            "type": "mesh3d"
           }
          ],
          "parcoords": [
           {
            "line": {
             "colorbar": {
              "outlinewidth": 0,
              "ticks": ""
             }
            },
            "type": "parcoords"
           }
          ],
          "pie": [
           {
            "automargin": true,
            "type": "pie"
           }
          ],
          "scatter": [
           {
            "fillpattern": {
             "fillmode": "overlay",
             "size": 10,
             "solidity": 0.2
            },
            "type": "scatter"
           }
          ],
          "scatter3d": [
           {
            "line": {
             "colorbar": {
              "outlinewidth": 0,
              "ticks": ""
             }
            },
            "marker": {
             "colorbar": {
              "outlinewidth": 0,
              "ticks": ""
             }
            },
            "type": "scatter3d"
           }
          ],
          "scattercarpet": [
           {
            "marker": {
             "colorbar": {
              "outlinewidth": 0,
              "ticks": ""
             }
            },
            "type": "scattercarpet"
           }
          ],
          "scattergeo": [
           {
            "marker": {
             "colorbar": {
              "outlinewidth": 0,
              "ticks": ""
             }
            },
            "type": "scattergeo"
           }
          ],
          "scattergl": [
           {
            "marker": {
             "colorbar": {
              "outlinewidth": 0,
              "ticks": ""
             }
            },
            "type": "scattergl"
           }
          ],
          "scattermapbox": [
           {
            "marker": {
             "colorbar": {
              "outlinewidth": 0,
              "ticks": ""
             }
            },
            "type": "scattermapbox"
           }
          ],
          "scatterpolar": [
           {
            "marker": {
             "colorbar": {
              "outlinewidth": 0,
              "ticks": ""
             }
            },
            "type": "scatterpolar"
           }
          ],
          "scatterpolargl": [
           {
            "marker": {
             "colorbar": {
              "outlinewidth": 0,
              "ticks": ""
             }
            },
            "type": "scatterpolargl"
           }
          ],
          "scatterternary": [
           {
            "marker": {
             "colorbar": {
              "outlinewidth": 0,
              "ticks": ""
             }
            },
            "type": "scatterternary"
           }
          ],
          "surface": [
           {
            "colorbar": {
             "outlinewidth": 0,
             "ticks": ""
            },
            "colorscale": [
             [
              0,
              "#0d0887"
             ],
             [
              0.1111111111111111,
              "#46039f"
             ],
             [
              0.2222222222222222,
              "#7201a8"
             ],
             [
              0.3333333333333333,
              "#9c179e"
             ],
             [
              0.4444444444444444,
              "#bd3786"
             ],
             [
              0.5555555555555556,
              "#d8576b"
             ],
             [
              0.6666666666666666,
              "#ed7953"
             ],
             [
              0.7777777777777778,
              "#fb9f3a"
             ],
             [
              0.8888888888888888,
              "#fdca26"
             ],
             [
              1,
              "#f0f921"
             ]
            ],
            "type": "surface"
           }
          ],
          "table": [
           {
            "cells": {
             "fill": {
              "color": "#EBF0F8"
             },
             "line": {
              "color": "white"
             }
            },
            "header": {
             "fill": {
              "color": "#C8D4E3"
             },
             "line": {
              "color": "white"
             }
            },
            "type": "table"
           }
          ]
         },
         "layout": {
          "annotationdefaults": {
           "arrowcolor": "#2a3f5f",
           "arrowhead": 0,
           "arrowwidth": 1
          },
          "autotypenumbers": "strict",
          "coloraxis": {
           "colorbar": {
            "outlinewidth": 0,
            "ticks": ""
           }
          },
          "colorscale": {
           "diverging": [
            [
             0,
             "#8e0152"
            ],
            [
             0.1,
             "#c51b7d"
            ],
            [
             0.2,
             "#de77ae"
            ],
            [
             0.3,
             "#f1b6da"
            ],
            [
             0.4,
             "#fde0ef"
            ],
            [
             0.5,
             "#f7f7f7"
            ],
            [
             0.6,
             "#e6f5d0"
            ],
            [
             0.7,
             "#b8e186"
            ],
            [
             0.8,
             "#7fbc41"
            ],
            [
             0.9,
             "#4d9221"
            ],
            [
             1,
             "#276419"
            ]
           ],
           "sequential": [
            [
             0,
             "#0d0887"
            ],
            [
             0.1111111111111111,
             "#46039f"
            ],
            [
             0.2222222222222222,
             "#7201a8"
            ],
            [
             0.3333333333333333,
             "#9c179e"
            ],
            [
             0.4444444444444444,
             "#bd3786"
            ],
            [
             0.5555555555555556,
             "#d8576b"
            ],
            [
             0.6666666666666666,
             "#ed7953"
            ],
            [
             0.7777777777777778,
             "#fb9f3a"
            ],
            [
             0.8888888888888888,
             "#fdca26"
            ],
            [
             1,
             "#f0f921"
            ]
           ],
           "sequentialminus": [
            [
             0,
             "#0d0887"
            ],
            [
             0.1111111111111111,
             "#46039f"
            ],
            [
             0.2222222222222222,
             "#7201a8"
            ],
            [
             0.3333333333333333,
             "#9c179e"
            ],
            [
             0.4444444444444444,
             "#bd3786"
            ],
            [
             0.5555555555555556,
             "#d8576b"
            ],
            [
             0.6666666666666666,
             "#ed7953"
            ],
            [
             0.7777777777777778,
             "#fb9f3a"
            ],
            [
             0.8888888888888888,
             "#fdca26"
            ],
            [
             1,
             "#f0f921"
            ]
           ]
          },
          "colorway": [
           "#636efa",
           "#EF553B",
           "#00cc96",
           "#ab63fa",
           "#FFA15A",
           "#19d3f3",
           "#FF6692",
           "#B6E880",
           "#FF97FF",
           "#FECB52"
          ],
          "font": {
           "color": "#2a3f5f"
          },
          "geo": {
           "bgcolor": "white",
           "lakecolor": "white",
           "landcolor": "#E5ECF6",
           "showlakes": true,
           "showland": true,
           "subunitcolor": "white"
          },
          "hoverlabel": {
           "align": "left"
          },
          "hovermode": "closest",
          "mapbox": {
           "style": "light"
          },
          "paper_bgcolor": "white",
          "plot_bgcolor": "#E5ECF6",
          "polar": {
           "angularaxis": {
            "gridcolor": "white",
            "linecolor": "white",
            "ticks": ""
           },
           "bgcolor": "#E5ECF6",
           "radialaxis": {
            "gridcolor": "white",
            "linecolor": "white",
            "ticks": ""
           }
          },
          "scene": {
           "xaxis": {
            "backgroundcolor": "#E5ECF6",
            "gridcolor": "white",
            "gridwidth": 2,
            "linecolor": "white",
            "showbackground": true,
            "ticks": "",
            "zerolinecolor": "white"
           },
           "yaxis": {
            "backgroundcolor": "#E5ECF6",
            "gridcolor": "white",
            "gridwidth": 2,
            "linecolor": "white",
            "showbackground": true,
            "ticks": "",
            "zerolinecolor": "white"
           },
           "zaxis": {
            "backgroundcolor": "#E5ECF6",
            "gridcolor": "white",
            "gridwidth": 2,
            "linecolor": "white",
            "showbackground": true,
            "ticks": "",
            "zerolinecolor": "white"
           }
          },
          "shapedefaults": {
           "line": {
            "color": "#2a3f5f"
           }
          },
          "ternary": {
           "aaxis": {
            "gridcolor": "white",
            "linecolor": "white",
            "ticks": ""
           },
           "baxis": {
            "gridcolor": "white",
            "linecolor": "white",
            "ticks": ""
           },
           "bgcolor": "#E5ECF6",
           "caxis": {
            "gridcolor": "white",
            "linecolor": "white",
            "ticks": ""
           }
          },
          "title": {
           "x": 0.05
          },
          "xaxis": {
           "automargin": true,
           "gridcolor": "white",
           "linecolor": "white",
           "ticks": "",
           "title": {
            "standoff": 15
           },
           "zerolinecolor": "white",
           "zerolinewidth": 2
          },
          "yaxis": {
           "automargin": true,
           "gridcolor": "white",
           "linecolor": "white",
           "ticks": "",
           "title": {
            "standoff": 15
           },
           "zerolinecolor": "white",
           "zerolinewidth": 2
          }
         }
        },
        "xaxis": {
         "anchor": "y",
         "domain": [
          0,
          1
         ],
         "title": {
          "text": "Palestinians Killed"
         }
        },
        "yaxis": {
         "anchor": "x",
         "domain": [
          0,
          1
         ],
         "title": {
          "text": "Israelis Killed"
         }
        }
       }
      }
     },
     "metadata": {},
     "output_type": "display_data"
    }
   ],
   "source": [
    "fig=px.scatter(df,x='Palestinians Killed',y='Israelis Killed',color='Year')\n",
    "fig.show()"
   ]
  },
  {
   "cell_type": "code",
   "execution_count": 72,
   "metadata": {},
   "outputs": [
    {
     "data": {
      "text/plain": [
       "2347"
      ]
     },
     "execution_count": 72,
     "metadata": {},
     "output_type": "execute_result"
    }
   ],
   "source": [
    "df['Israelis Injuries'].max()"
   ]
  },
  {
   "cell_type": "code",
   "execution_count": 73,
   "metadata": {},
   "outputs": [
    {
     "data": {
      "text/plain": [
       "0"
      ]
     },
     "execution_count": 73,
     "metadata": {},
     "output_type": "execute_result"
    }
   ],
   "source": [
    "df['Israelis Injuries'].min()"
   ]
  },
  {
   "cell_type": "code",
   "execution_count": 74,
   "metadata": {},
   "outputs": [
    {
     "data": {
      "text/plain": [
       "13735"
      ]
     },
     "execution_count": 74,
     "metadata": {},
     "output_type": "execute_result"
    }
   ],
   "source": [
    "df['Palestinians Injuries'].max()"
   ]
  },
  {
   "cell_type": "code",
   "execution_count": 75,
   "metadata": {},
   "outputs": [
    {
     "data": {
      "text/plain": [
       "26"
      ]
     },
     "execution_count": 75,
     "metadata": {},
     "output_type": "execute_result"
    }
   ],
   "source": [
    "df['Palestinians Injuries'].min()"
   ]
  },
  {
   "cell_type": "code",
   "execution_count": 76,
   "metadata": {},
   "outputs": [
    {
     "data": {
      "text/plain": [
       "164    2347\n",
       "Name: Israelis Injuries, dtype: int64"
      ]
     },
     "execution_count": 76,
     "metadata": {},
     "output_type": "execute_result"
    }
   ],
   "source": [
    "df['Israelis Injuries'].loc[df['Israelis Injuries']==2347]"
   ]
  },
  {
   "cell_type": "code",
   "execution_count": 77,
   "metadata": {},
   "outputs": [
    {
     "data": {
      "text/plain": [
       "164    13735\n",
       "Name: Palestinians Injuries, dtype: int64"
      ]
     },
     "execution_count": 77,
     "metadata": {},
     "output_type": "execute_result"
    }
   ],
   "source": [
    "df['Palestinians Injuries'].loc[df['Palestinians Injuries']==13735]"
   ]
  },
  {
   "cell_type": "code",
   "execution_count": 78,
   "metadata": {},
   "outputs": [
    {
     "data": {
      "text/plain": [
       "Year                     2014.0\n",
       "Month                    August\n",
       "Palestinians Injuries     13735\n",
       "Israelis Injuries          2347\n",
       "Palestinians Killed         614\n",
       "Israelis Killed               9\n",
       "Name: 164, dtype: object"
      ]
     },
     "execution_count": 78,
     "metadata": {},
     "output_type": "execute_result"
    }
   ],
   "source": [
    "df.loc[164,['Year','Month']]\n",
    "df.loc[164]\n"
   ]
  },
  {
   "cell_type": "code",
   "execution_count": 79,
   "metadata": {},
   "outputs": [
    {
     "name": "stdout",
     "output_type": "stream",
     "text": [
      "The highest Injuries toll ever in Palistine occurred in Auguest 2014 when 13735 people were Injured in attacks.\n",
      "The highest Injuries toll ever in Israel occurred in Auguest 2014 when 2375 people were Injured in attacks.\n"
     ]
    }
   ],
   "source": [
    "print('The highest Injuries toll ever in Palistine occurred in Auguest 2014 when 13735 people were Injured in attacks.')\n",
    "print('The highest Injuries toll ever in Israel occurred in Auguest 2014 when 2375 people were Injured in attacks.')"
   ]
  },
  {
   "cell_type": "code",
   "execution_count": 80,
   "metadata": {},
   "outputs": [
    {
     "data": {
      "image/png": "[encoded data removed]",
      "text/plain": [
       "<Figure size 640x480 with 1 Axes>"
      ]
     },
     "metadata": {},
     "output_type": "display_data"
    }
   ],
   "source": [
    "plt.bar(['Palestinians Injuries','Israelis Injuries'],[13735,2375],color=['r','g'])\n",
    "plt.title('Highest Injuries by Country')\n",
    "plt.show()"
   ]
  },
  {
   "cell_type": "code",
   "execution_count": 81,
   "metadata": {},
   "outputs": [],
   "source": [
    "AvgKillsInIsrael=int(df['Israelis Killed'].mean())"
   ]
  },
  {
   "cell_type": "code",
   "execution_count": 82,
   "metadata": {},
   "outputs": [],
   "source": [
    "AvgKillsInPalestine=int(df['Palestinians Killed'].mean())"
   ]
  },
  {
   "cell_type": "code",
   "execution_count": 83,
   "metadata": {},
   "outputs": [
    {
     "name": "stdout",
     "output_type": "stream",
     "text": [
      "The avergae kills per month in Palestine was: 40\n",
      "The avergae kills per month in Israel was: 5\n"
     ]
    }
   ],
   "source": [
    "print('The avergae kills per month in Palestine was:',AvgKillsInPalestine)\n",
    "print('The avergae kills per month in Israel was:',AvgKillsInIsrael)\n"
   ]
  },
  {
   "cell_type": "code",
   "execution_count": 84,
   "metadata": {},
   "outputs": [
    {
     "data": {
      "image/png": "[encoded data removed]",
      "text/plain": [
       "<Figure size 640x480 with 1 Axes>"
      ]
     },
     "metadata": {},
     "output_type": "display_data"
    }
   ],
   "source": [
    "plt.bar(['Avg Palestine Killings','Avg Israel Killings'],[40,5],color=['blue','purple'])\n",
    "plt.title('Average Killings Per Month')\n",
    "plt.show()"
   ]
  },
  {
   "cell_type": "code",
   "execution_count": 85,
   "metadata": {},
   "outputs": [],
   "source": [
    "AvgInjuriesInIsrael=int(df['Israelis Injuries'].mean())"
   ]
  },
  {
   "cell_type": "code",
   "execution_count": 86,
   "metadata": {},
   "outputs": [],
   "source": [
    "AvgInjuriesInPalestine=int(df['Palestinians Injuries'].mean())"
   ]
  },
  {
   "cell_type": "code",
   "execution_count": 87,
   "metadata": {},
   "outputs": [
    {
     "name": "stdout",
     "output_type": "stream",
     "text": [
      "The avergae Injuries per month in Palestine was: 577\n",
      "The avergae Injuries per month in Israel was: 27\n"
     ]
    }
   ],
   "source": [
    "print('The avergae Injuries per month in Palestine was:',AvgInjuriesInPalestine)\n",
    "print('The avergae Injuries per month in Israel was:',AvgInjuriesInIsrael)\n"
   ]
  },
  {
   "cell_type": "code",
   "execution_count": 88,
   "metadata": {},
   "outputs": [
    {
     "data": {
      "image/png": "[encoded data removed]",
      "text/plain": [
       "<Figure size 640x480 with 1 Axes>"
      ]
     },
     "metadata": {},
     "output_type": "display_data"
    }
   ],
   "source": [
    "plt.bar(['Avg Palestine Injuries','Avg Israel Injuries'],[577,27],color=['green','orange'])\n",
    "plt.title('Average Injuries Per Month')\n",
    "plt.show()"
   ]
  },
  {
   "cell_type": "code",
   "execution_count": 89,
   "metadata": {},
   "outputs": [
    {
     "name": "stdout",
     "output_type": "stream",
     "text": [
      "Total People killed in Palestine from 2000 to 2021 is : 10000\n",
      "Total People killed in Isarel from 2000 to 2021 is : 1275\n",
      "Total People Injured in Palestine from 2000 to 2021 is : 143787\n",
      "Total People Injured in Isarel from 2000 to 2021 is : 6945\n"
     ]
    }
   ],
   "source": [
    "print('Total People killed in Palestine from 2000 to 2021 is :',df['Palestinians Killed'].sum())\n",
    "print('Total People killed in Isarel from 2000 to 2021 is :',df['Israelis Killed'].sum())\n",
    "print('Total People Injured in Palestine from 2000 to 2021 is :',df['Palestinians Injuries'].sum())\n",
    "print('Total People Injured in Isarel from 2000 to 2021 is :',df['Israelis Injuries'].sum())\n"
   ]
  },
  {
   "cell_type": "code",
   "execution_count": 90,
   "metadata": {},
   "outputs": [
    {
     "data": {
      "image/png": "[encoded data removed]",
      "text/plain": [
       "<Figure size 640x480 with 1 Axes>"
      ]
     },
     "metadata": {},
     "output_type": "display_data"
    }
   ],
   "source": [
    "plt.bar(['Total Palestine Kills','Total Israel Kills'],[10000,1275],color=['green','orange'])\n",
    "plt.title('Total Kills')\n",
    "plt.show()"
   ]
  },
  {
   "cell_type": "code",
   "execution_count": 91,
   "metadata": {},
   "outputs": [
    {
     "data": {
      "image/png": "[encoded data removed]",
      "text/plain": [
       "<Figure size 640x480 with 1 Axes>"
      ]
     },
     "metadata": {},
     "output_type": "display_data"
    }
   ],
   "source": [
    "plt.bar(['Total Palestine Injuires','Total Israel Injuries'],[143787,6945],color=['black','red'])\n",
    "plt.title('Total Injuries')\n",
    "plt.show()"
   ]
  },
  {
   "cell_type": "code",
   "execution_count": 111,
   "metadata": {},
   "outputs": [
    {
     "name": "stdout",
     "output_type": "stream",
     "text": [
      "Medain of Israelis Injuries is 15.0\n",
      "Mode of Israelis Injuries is 15\n",
      "Medain of Israelis Killed is 1.0\n",
      "Mode of Israelis Killed is 0\n",
      "Medain of Palestinians Injuries is 286.0\n",
      "Mode of Palestinians Injuries is 577\n",
      "Medain of Palestinians Killed is 12.0\n",
      "Mode of Palestinians Killed is 2\n",
      "Standard Deviation of Israelis Injuries is 148.98213889873972\n",
      "Standard Deviation Israelis Killed is 11.653323204232047\n",
      "Standard Deviation of Palestinians Injuries is 1446.3617032547745\n",
      "Standard Deviation of Palestinians Killed is 129.14885095428158\n"
     ]
    }
   ],
   "source": [
    "print('Medain of Israelis Injuries is',df['Israelis Injuries'].median())\n",
    "print('Mode of Israelis Injuries is',df['Israelis Injuries'].mode()[0])\n",
    "print('Medain of Israelis Killed is',df['Israelis Killed'].median())\n",
    "print('Mode of Israelis Killed is',df['Israelis Killed'].mode()[0])\n",
    "print('Medain of Palestinians Injuries is',df['Palestinians Injuries'].median())\n",
    "print('Mode of Palestinians Injuries is',df['Palestinians Injuries'].mode()[0])\n",
    "print('Medain of Palestinians Killed is',df['Palestinians Killed'].median())\n",
    "print('Mode of Palestinians Killed is',df['Palestinians Killed'].mode()[0])\n",
    "\n",
    "print('Standard Deviation of Israelis Injuries is',df['Israelis Injuries'].std())\n",
    "print('Standard Deviation Israelis Killed is',df['Israelis Killed'].std())\n",
    "\n",
    "print('Standard Deviation of Palestinians Injuries is',df['Palestinians Injuries'].std())\n",
    "print('Standard Deviation of Palestinians Killed is',df['Palestinians Killed'].std())"
   ]
  }
 ],
 "metadata": {
  "kernelspec": {
   "display_name": "Python 3 (ipykernel)",
   "language": "python",
   "name": "python3"
  },
  "language_info": {
   "codemirror_mode": {
    "name": "ipython",
    "version": 3
   },
   "file_extension": ".py",
   "mimetype": "text/x-python",
   "name": "python",
   "nbconvert_exporter": "python",
   "pygments_lexer": "ipython3",
   "version": "3.11.0"
  }
 },
 "nbformat": 4,
 "nbformat_minor": 2
}
