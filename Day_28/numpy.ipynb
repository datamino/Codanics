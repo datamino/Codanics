{
 "cells": [
  {
   "cell_type": "markdown",
   "metadata": {},
   "source": [
    "# **Numpy**"
   ]
  },
  {
   "cell_type": "markdown",
   "metadata": {},
   "source": [
    "\n",
    ">**Defination:** NumPy which stands for Numerical Python, is a Python library used for working with arrays. It provides a high-performance multidimensional array object, and a large collection of mathematical functions that operate on these arrays. \n",
    "\n",
    "NumPy is used in a wide variety of applications, including:\n",
    "\n",
    "**➤ Data science and machine learning**<br>\n",
    "NumPy is used to store and manipulate large datasets, and to perform complex mathematical operations on them.\n",
    "\n",
    "**➤Scientific computing** <br>\n",
    "NumPy is used to solve complex scientific problems, such as simulating physical systems and modeling financial markets.\n",
    "\n",
    "**➤ Image processing**<br> \n",
    "NumPy is used to store and manipulate images, and to perform image processing operations such as filtering and edge detection.\n",
    "\n",
    "**➤ Signal processing**<br>\n",
    "NumPy is used to store and manipulate signals, and to perform signal processing operations such as filtering and Fourier analysis.\n",
    "\n",
    "Here are some of the reasons why we use NumPy:\n",
    "\n",
    "- NumPy arrays are faster and more efficient than Python lists for performing mathematical operations.\n",
    "- NumPy provides a wide range of mathematical functions that are optimized for working with arrays.\n",
    "- NumPy is compatible with other popular Python libraries, such as pandas and matplotlib. NumPy is used to store and manipulate large datasets, and to perform complex mathematical operations on them.\n",
    "- Scientific computing: NumPy is used to solve complex scientific problems, such as simulating physical systems and modeling financial markets.\n",
    "- Image processing: NumPy is used to store and manipulate images, and to perform image processing operations such as filtering and edge detection.\n",
    "- Signal processing: NumPy is used to store and manipulate signals, and to perform signal processing operations such as filtering and Fourier analysis.\n",
    "Here are some of the reasons why we use NumPy:\n",
    "\n",
    "- NumPy arrays are faster and more efficient than Python lists for performing mathematical operations.\n",
    "- NumPy provides a wide range of mathematical functions that are optimized for working with arrays.\n",
    "- NumPy is compatible with other popular Python libraries, such as pandas and matplotlib."
   ]
  },
  {
   "cell_type": "code",
   "execution_count": 53,
   "metadata": {},
   "outputs": [],
   "source": [
    "import numpy as np\n",
    "import pandas as pd"
   ]
  },
  {
   "cell_type": "markdown",
   "metadata": {},
   "source": [
    "**1) arange()**<br>\n",
    "np.arange(start, stop, step): Create an array with a range of values."
   ]
  },
  {
   "cell_type": "code",
   "execution_count": 54,
   "metadata": {},
   "outputs": [
    {
     "name": "stdout",
     "output_type": "stream",
     "text": [
      "With 1 parameter:[0 1 2 3 4]\n",
      "Shape of array is:(5,)\n",
      "With 2 parameters:[1 2 3 4]\n",
      "Shape of array is:(4,)\n",
      "With 3 parameters:[2 4 6 8]\n",
      "Shape of array is:(4,)\n",
      "2D with 1 parameter:[[0 1 2 3 4]]\n",
      "Shape of array is:(1, 5)\n",
      "2D with 1 parameter:[[0]\n",
      " [1]\n",
      " [2]\n",
      " [3]\n",
      " [4]]\n",
      "Shape of array is:(5, 1)\n"
     ]
    }
   ],
   "source": [
    "one_paramter=np.arange(5)\n",
    "two_paramters=np.arange(1,5)\n",
    "three_paramters=np.arange(2,10,2)\n",
    "print(f\"With 1 parameter:{one_paramter}\\nShape of array is:{one_paramter.shape}\")\n",
    "print(f\"With 2 parameters:{two_paramters}\\nShape of array is:{two_paramters.shape}\")\n",
    "print(f\"With 3 parameters:{three_paramters}\\nShape of array is:{three_paramters.shape}\")\n",
    "\n",
    "\n",
    "\n",
    "# Making 2D Arrays from Arange Method\n",
    "one_paramter_2D=one_paramter[np.newaxis,:]\n",
    "print(f\"2D with 1 parameter:{one_paramter_2D}\\nShape of array is:{one_paramter_2D.shape}\")\n",
    "\n",
    "one_paramter_2D=one_paramter[:,np.newaxis]\n",
    "print(f\"2D with 1 parameter:{one_paramter_2D}\\nShape of array is:{one_paramter_2D.shape}\")\n",
    "\n",
    "\n",
    "\n"
   ]
  },
  {
   "cell_type": "markdown",
   "metadata": {},
   "source": [
    "**2) array()**<br>\n",
    "np.array(): Create an array from a list or tuple."
   ]
  },
  {
   "cell_type": "code",
   "execution_count": 55,
   "metadata": {},
   "outputs": [
    {
     "name": "stdout",
     "output_type": "stream",
     "text": [
      "[1 2 3 4 5]\n",
      "Type of a is: <class 'numpy.ndarray'>\n",
      "Length of a is: 5\n",
      "Dimention of a is: 1\n",
      "Total Elements  of a are: 5\n",
      "Shape  of a is: (5,)\n",
      "--------------------------------------------------\n",
      "[[1 2 3 4 5]\n",
      " [1 2 3 4 5]]\n",
      "Type of b is: <class 'numpy.ndarray'>\n",
      "Length of b is: 2\n",
      "Dimention of b is: 2\n",
      "Total Elements  of b are: 10\n",
      "Shape  of b is: (2, 5)\n"
     ]
    }
   ],
   "source": [
    "# 1D Array.\n",
    "a=np.array([1,2,3,4,5])\n",
    "print(a)\n",
    "\n",
    "# some array attribues\n",
    "\n",
    "print(\"Type of a is:\",type(a))\n",
    "print(\"Length of a is:\",len(a))\n",
    "print(\"Dimention of a is:\",a.ndim)\n",
    "print(\"Total Elements  of a are:\",a.size)\n",
    "print(\"Shape  of a is:\",a.shape)\n",
    "print('-'*50)\n",
    "# 2D Array\n",
    "b=np.array([(1,2,3,4,5),(1,2,3,4,5)])\n",
    "print(b)\n",
    "\n",
    "\n",
    "\n",
    "# some array attribues\n",
    "print(\"Type of b is:\",type(b))\n",
    "print(\"Length of b is:\",len(b))\n",
    "print(\"Dimention of b is:\",b.ndim)\n",
    "print(\"Total Elements  of b are:\",b.size)\n",
    "print(\"Shape  of b is:\",b.shape)"
   ]
  },
  {
   "cell_type": "markdown",
   "metadata": {},
   "source": [
    "**3) zeros()**<br>\n",
    "np.zeros(shape): Create an array filled with zeros.\n"
   ]
  },
  {
   "cell_type": "code",
   "execution_count": 56,
   "metadata": {},
   "outputs": [
    {
     "data": {
      "text/plain": [
       "array([[0., 0., 0., 0.],\n",
       "       [0., 0., 0., 0.],\n",
       "       [0., 0., 0., 0.]])"
      ]
     },
     "execution_count": 56,
     "metadata": {},
     "output_type": "execute_result"
    }
   ],
   "source": [
    "zeros=np.zeros((3,4))\n",
    "zeros"
   ]
  },
  {
   "cell_type": "markdown",
   "metadata": {},
   "source": [
    "**4) ones()**<br>\n",
    "np.ones(shape): Create an array filled with ones."
   ]
  },
  {
   "cell_type": "code",
   "execution_count": 57,
   "metadata": {},
   "outputs": [
    {
     "data": {
      "text/plain": [
       "array([[1., 1., 1., 1.],\n",
       "       [1., 1., 1., 1.],\n",
       "       [1., 1., 1., 1.]])"
      ]
     },
     "execution_count": 57,
     "metadata": {},
     "output_type": "execute_result"
    }
   ],
   "source": [
    "ones=np.ones((3,4))\n",
    "ones"
   ]
  },
  {
   "cell_type": "markdown",
   "metadata": {},
   "source": [
    "**5) full()**<br>\n",
    "np.full(shape,value): Create an array filled with desire value."
   ]
  },
  {
   "cell_type": "code",
   "execution_count": 58,
   "metadata": {},
   "outputs": [
    {
     "data": {
      "text/plain": [
       "array([[5, 5, 5, 5],\n",
       "       [5, 5, 5, 5],\n",
       "       [5, 5, 5, 5]])"
      ]
     },
     "execution_count": 58,
     "metadata": {},
     "output_type": "execute_result"
    }
   ],
   "source": [
    "fives=np.full((3,4),5)\n",
    "fives"
   ]
  },
  {
   "cell_type": "markdown",
   "metadata": {},
   "source": [
    "**6) eye()**<br>\n",
    "np.eye(Size): Create an identity matrix of Size x Size ."
   ]
  },
  {
   "cell_type": "code",
   "execution_count": 59,
   "metadata": {},
   "outputs": [
    {
     "data": {
      "text/plain": [
       "array([[1., 0., 0.],\n",
       "       [0., 1., 0.],\n",
       "       [0., 0., 1.]])"
      ]
     },
     "execution_count": 59,
     "metadata": {},
     "output_type": "execute_result"
    }
   ],
   "source": [
    "identity=np.eye(3)\n",
    "identity"
   ]
  },
  {
   "cell_type": "markdown",
   "metadata": {},
   "source": [
    "**7) eys()**<br>\n",
    "np.eye(Size): Create an identity matrix of Size x Size ."
   ]
  },
  {
   "cell_type": "markdown",
   "metadata": {},
   "source": [
    "# **Math Operations**"
   ]
  },
  {
   "cell_type": "code",
   "execution_count": 60,
   "metadata": {},
   "outputs": [],
   "source": [
    "a=np.arange(6)\n",
    "b=np.arange(6)\n"
   ]
  },
  {
   "cell_type": "code",
   "execution_count": 61,
   "metadata": {},
   "outputs": [
    {
     "data": {
      "text/plain": [
       "array([ 0,  2,  4,  6,  8, 10])"
      ]
     },
     "execution_count": 61,
     "metadata": {},
     "output_type": "execute_result"
    }
   ],
   "source": [
    "# Addtion\n",
    "\n",
    "# Method 1\n",
    "\n",
    "add=a+b\n",
    "add\n",
    "\n",
    "# Method 2\n",
    "add=np.add(a,b)\n",
    "add"
   ]
  },
  {
   "cell_type": "code",
   "execution_count": 62,
   "metadata": {},
   "outputs": [
    {
     "data": {
      "text/plain": [
       "array([0, 0, 0, 0, 0, 0])"
      ]
     },
     "execution_count": 62,
     "metadata": {},
     "output_type": "execute_result"
    }
   ],
   "source": [
    "# Subtraction\n",
    "\n",
    "# Method 1\n",
    "\n",
    "sub=a-b\n",
    "sub\n",
    "\n",
    "# Method 2\n",
    "sub=np.subtract(a,b)\n",
    "sub"
   ]
  },
  {
   "cell_type": "code",
   "execution_count": 63,
   "metadata": {},
   "outputs": [
    {
     "data": {
      "text/plain": [
       "array([ 0,  1,  4,  9, 16, 25])"
      ]
     },
     "execution_count": 63,
     "metadata": {},
     "output_type": "execute_result"
    }
   ],
   "source": [
    "# Multiplications\n",
    "\n",
    "# Method 1\n",
    "\n",
    "Mul=a*b\n",
    "Mul\n",
    "\n",
    "# Method 2\n",
    "Mul=np.multiply(a,b)\n",
    "Mul"
   ]
  },
  {
   "cell_type": "code",
   "execution_count": 64,
   "metadata": {},
   "outputs": [
    {
     "data": {
      "text/plain": [
       "array([1., 1., 1., 1.])"
      ]
     },
     "execution_count": 64,
     "metadata": {},
     "output_type": "execute_result"
    }
   ],
   "source": [
    "# Division\n",
    "\n",
    "# Method 1\n",
    "a=np.arange(1,5)\n",
    "b=np.arange(1,5)\n",
    "Div=a/b\n",
    "Div\n",
    "\n",
    "# Method 2\n",
    "# Div=np.divide(a,b)\n",
    "# Div"
   ]
  },
  {
   "cell_type": "code",
   "execution_count": 65,
   "metadata": {},
   "outputs": [
    {
     "data": {
      "text/plain": [
       "array([ 1,  4,  9, 16])"
      ]
     },
     "execution_count": 65,
     "metadata": {},
     "output_type": "execute_result"
    }
   ],
   "source": [
    "# Exponent\n",
    "\n",
    "# Method 1\n",
    "\n",
    "Exp=a**2\n",
    "Exp\n"
   ]
  }
 ],
 "metadata": {
  "kernelspec": {
   "display_name": "python_eda",
   "language": "python",
   "name": "python3"
  },
  "language_info": {
   "codemirror_mode": {
    "name": "ipython",
    "version": 3
   },
   "file_extension": ".py",
   "mimetype": "text/x-python",
   "name": "python",
   "nbconvert_exporter": "python",
   "pygments_lexer": "ipython3",
   "version": "3.11.0"
  }
 },
 "nbformat": 4,
 "nbformat_minor": 2
}
